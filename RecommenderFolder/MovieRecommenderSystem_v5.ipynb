{
 "cells": [
  {
   "cell_type": "code",
   "execution_count": 1,
   "id": "8e11b36b",
   "metadata": {},
   "outputs": [],
   "source": [
    "import pandas as pd\n",
    "import numpy as np\n",
    "import matplotlib as plt\n"
   ]
  },
  {
   "cell_type": "code",
   "execution_count": 2,
   "id": "343c77e8",
   "metadata": {},
   "outputs": [],
   "source": [
    "movies = pd.read_csv('tmdb_5000_movies.csv')\n",
    "credits = pd.read_csv('tmdb_5000_credits.csv')"
   ]
  },
  {
   "cell_type": "code",
   "execution_count": 3,
   "id": "c74ed695",
   "metadata": {},
   "outputs": [],
   "source": [
    "movies = movies.merge(credits, on ='title')"
   ]
  },
  {
   "cell_type": "code",
   "execution_count": 4,
   "id": "033daf03",
   "metadata": {},
   "outputs": [
    {
     "data": {
      "text/plain": [
       "Index(['budget', 'genres', 'homepage', 'id', 'keywords', 'original_language',\n",
       "       'original_title', 'overview', 'popularity', 'production_companies',\n",
       "       'production_countries', 'release_date', 'revenue', 'runtime',\n",
       "       'spoken_languages', 'status', 'tagline', 'title', 'vote_average',\n",
       "       'vote_count', 'movie_id', 'cast', 'crew'],\n",
       "      dtype='object')"
      ]
     },
     "execution_count": 4,
     "metadata": {},
     "output_type": "execute_result"
    }
   ],
   "source": [
    "movies.columns"
   ]
  },
  {
   "cell_type": "code",
   "execution_count": 5,
   "id": "5c1eaa20",
   "metadata": {},
   "outputs": [],
   "source": [
    "movies = movies[['genres','id','keywords','overview','popularity','tagline','title','vote_average','vote_count','cast','crew']]"
   ]
  },
  {
   "cell_type": "code",
   "execution_count": 6,
   "id": "ca7b4fa3",
   "metadata": {},
   "outputs": [
    {
     "data": {
      "text/plain": [
       "genres            0\n",
       "id                0\n",
       "keywords          0\n",
       "overview          3\n",
       "popularity        0\n",
       "tagline         844\n",
       "title             0\n",
       "vote_average      0\n",
       "vote_count        0\n",
       "cast              0\n",
       "crew              0\n",
       "dtype: int64"
      ]
     },
     "execution_count": 6,
     "metadata": {},
     "output_type": "execute_result"
    }
   ],
   "source": [
    "movies.isnull().sum()"
   ]
  },
  {
   "cell_type": "code",
   "execution_count": 7,
   "id": "5f2566b7",
   "metadata": {},
   "outputs": [],
   "source": [
    "movies['tagline'].fillna(\"\", inplace = True)"
   ]
  },
  {
   "cell_type": "code",
   "execution_count": 8,
   "id": "83257b1e",
   "metadata": {},
   "outputs": [],
   "source": [
    "movies.dropna(inplace = True)"
   ]
  },
  {
   "cell_type": "code",
   "execution_count": 9,
   "id": "b3ec5849",
   "metadata": {},
   "outputs": [
    {
     "data": {
      "text/plain": [
       "(4806, 11)"
      ]
     },
     "execution_count": 9,
     "metadata": {},
     "output_type": "execute_result"
    }
   ],
   "source": [
    "movies.shape"
   ]
  },
  {
   "cell_type": "code",
   "execution_count": 10,
   "id": "6c9601f2",
   "metadata": {},
   "outputs": [],
   "source": [
    "movies.reset_index(drop=True, inplace = True)"
   ]
  },
  {
   "cell_type": "code",
   "execution_count": 11,
   "id": "4f91a0e8",
   "metadata": {},
   "outputs": [],
   "source": [
    "vote_counts = movies[movies['vote_count'].notnull()]['vote_count'].astype('int')\n",
    "vote_averages = movies[movies['vote_average'].notnull()]['vote_average'].astype('int')\n",
    "C = vote_averages.mean()\n",
    "m = vote_counts.quantile(0.50)\n",
    "\n",
    "def weighted_rating(x):\n",
    "    v = x['vote_count']\n",
    "    R = x['vote_average']\n",
    "    return (v/(v+m) * R) + (m/(m+v) * C)"
   ]
  },
  {
   "cell_type": "code",
   "execution_count": 12,
   "id": "6abe8a74",
   "metadata": {},
   "outputs": [],
   "source": [
    "movies['vote_count'] = movies['vote_count'].astype('int')\n",
    "movies['vote_average'] = movies['vote_average'].astype('int')\n",
    "movies['wr'] = movies.apply(weighted_rating, axis=1)"
   ]
  },
  {
   "cell_type": "code",
   "execution_count": 13,
   "id": "a527ce5a",
   "metadata": {},
   "outputs": [
    {
     "data": {
      "text/html": [
       "<div>\n",
       "<style scoped>\n",
       "    .dataframe tbody tr th:only-of-type {\n",
       "        vertical-align: middle;\n",
       "    }\n",
       "\n",
       "    .dataframe tbody tr th {\n",
       "        vertical-align: top;\n",
       "    }\n",
       "\n",
       "    .dataframe thead th {\n",
       "        text-align: right;\n",
       "    }\n",
       "</style>\n",
       "<table border=\"1\" class=\"dataframe\">\n",
       "  <thead>\n",
       "    <tr style=\"text-align: right;\">\n",
       "      <th></th>\n",
       "      <th>genres</th>\n",
       "      <th>id</th>\n",
       "      <th>keywords</th>\n",
       "      <th>overview</th>\n",
       "      <th>popularity</th>\n",
       "      <th>tagline</th>\n",
       "      <th>title</th>\n",
       "      <th>vote_average</th>\n",
       "      <th>vote_count</th>\n",
       "      <th>cast</th>\n",
       "      <th>crew</th>\n",
       "      <th>wr</th>\n",
       "    </tr>\n",
       "  </thead>\n",
       "  <tbody>\n",
       "    <tr>\n",
       "      <th>0</th>\n",
       "      <td>[{\"id\": 28, \"name\": \"Action\"}, {\"id\": 12, \"nam...</td>\n",
       "      <td>19995</td>\n",
       "      <td>[{\"id\": 1463, \"name\": \"culture clash\"}, {\"id\":...</td>\n",
       "      <td>In the 22nd century, a paraplegic Marine is di...</td>\n",
       "      <td>150.437577</td>\n",
       "      <td>Enter the World of Pandora.</td>\n",
       "      <td>Avatar</td>\n",
       "      <td>7</td>\n",
       "      <td>11800</td>\n",
       "      <td>[{\"cast_id\": 242, \"character\": \"Jake Sully\", \"...</td>\n",
       "      <td>[{\"credit_id\": \"52fe48009251416c750aca23\", \"de...</td>\n",
       "      <td>6.973607</td>\n",
       "    </tr>\n",
       "    <tr>\n",
       "      <th>1</th>\n",
       "      <td>[{\"id\": 12, \"name\": \"Adventure\"}, {\"id\": 14, \"...</td>\n",
       "      <td>285</td>\n",
       "      <td>[{\"id\": 270, \"name\": \"ocean\"}, {\"id\": 726, \"na...</td>\n",
       "      <td>Captain Barbossa, long believed to be dead, ha...</td>\n",
       "      <td>139.082615</td>\n",
       "      <td>At the end of the world, the adventure begins.</td>\n",
       "      <td>Pirates of the Caribbean: At World's End</td>\n",
       "      <td>6</td>\n",
       "      <td>4500</td>\n",
       "      <td>[{\"cast_id\": 4, \"character\": \"Captain Jack Spa...</td>\n",
       "      <td>[{\"credit_id\": \"52fe4232c3a36847f800b579\", \"de...</td>\n",
       "      <td>5.982757</td>\n",
       "    </tr>\n",
       "    <tr>\n",
       "      <th>2</th>\n",
       "      <td>[{\"id\": 28, \"name\": \"Action\"}, {\"id\": 12, \"nam...</td>\n",
       "      <td>206647</td>\n",
       "      <td>[{\"id\": 470, \"name\": \"spy\"}, {\"id\": 818, \"name...</td>\n",
       "      <td>A cryptic message from Bond’s past sends him o...</td>\n",
       "      <td>107.376788</td>\n",
       "      <td>A Plan No One Escapes</td>\n",
       "      <td>Spectre</td>\n",
       "      <td>6</td>\n",
       "      <td>4466</td>\n",
       "      <td>[{\"cast_id\": 1, \"character\": \"James Bond\", \"cr...</td>\n",
       "      <td>[{\"credit_id\": \"54805967c3a36829b5002c41\", \"de...</td>\n",
       "      <td>5.982632</td>\n",
       "    </tr>\n",
       "  </tbody>\n",
       "</table>\n",
       "</div>"
      ],
      "text/plain": [
       "                                              genres      id  \\\n",
       "0  [{\"id\": 28, \"name\": \"Action\"}, {\"id\": 12, \"nam...   19995   \n",
       "1  [{\"id\": 12, \"name\": \"Adventure\"}, {\"id\": 14, \"...     285   \n",
       "2  [{\"id\": 28, \"name\": \"Action\"}, {\"id\": 12, \"nam...  206647   \n",
       "\n",
       "                                            keywords  \\\n",
       "0  [{\"id\": 1463, \"name\": \"culture clash\"}, {\"id\":...   \n",
       "1  [{\"id\": 270, \"name\": \"ocean\"}, {\"id\": 726, \"na...   \n",
       "2  [{\"id\": 470, \"name\": \"spy\"}, {\"id\": 818, \"name...   \n",
       "\n",
       "                                            overview  popularity  \\\n",
       "0  In the 22nd century, a paraplegic Marine is di...  150.437577   \n",
       "1  Captain Barbossa, long believed to be dead, ha...  139.082615   \n",
       "2  A cryptic message from Bond’s past sends him o...  107.376788   \n",
       "\n",
       "                                          tagline  \\\n",
       "0                     Enter the World of Pandora.   \n",
       "1  At the end of the world, the adventure begins.   \n",
       "2                           A Plan No One Escapes   \n",
       "\n",
       "                                      title  vote_average  vote_count  \\\n",
       "0                                    Avatar             7       11800   \n",
       "1  Pirates of the Caribbean: At World's End             6        4500   \n",
       "2                                   Spectre             6        4466   \n",
       "\n",
       "                                                cast  \\\n",
       "0  [{\"cast_id\": 242, \"character\": \"Jake Sully\", \"...   \n",
       "1  [{\"cast_id\": 4, \"character\": \"Captain Jack Spa...   \n",
       "2  [{\"cast_id\": 1, \"character\": \"James Bond\", \"cr...   \n",
       "\n",
       "                                                crew        wr  \n",
       "0  [{\"credit_id\": \"52fe48009251416c750aca23\", \"de...  6.973607  \n",
       "1  [{\"credit_id\": \"52fe4232c3a36847f800b579\", \"de...  5.982757  \n",
       "2  [{\"credit_id\": \"54805967c3a36829b5002c41\", \"de...  5.982632  "
      ]
     },
     "execution_count": 13,
     "metadata": {},
     "output_type": "execute_result"
    }
   ],
   "source": [
    "movies.head(3)"
   ]
  },
  {
   "cell_type": "code",
   "execution_count": 14,
   "id": "ae68ab8b",
   "metadata": {},
   "outputs": [
    {
     "data": {
      "text/plain": [
       "'[{\"id\": 28, \"name\": \"Action\"}, {\"id\": 12, \"name\": \"Adventure\"}, {\"id\": 14, \"name\": \"Fantasy\"}, {\"id\": 878, \"name\": \"Science Fiction\"}]'"
      ]
     },
     "execution_count": 14,
     "metadata": {},
     "output_type": "execute_result"
    }
   ],
   "source": [
    "movies.iloc[0].genres"
   ]
  },
  {
   "cell_type": "code",
   "execution_count": 15,
   "id": "7fb6fb5f",
   "metadata": {},
   "outputs": [],
   "source": [
    "import ast\n",
    "\n",
    "def convert(obj):\n",
    "    l=[]\n",
    "    for i in ast.literal_eval(obj):\n",
    "        l.append(i[\"name\"])\n",
    "    return l"
   ]
  },
  {
   "cell_type": "code",
   "execution_count": 16,
   "id": "54d63d86",
   "metadata": {},
   "outputs": [],
   "source": [
    "movies['genres']=movies['genres'].apply(convert)"
   ]
  },
  {
   "cell_type": "code",
   "execution_count": 17,
   "id": "a29cc956",
   "metadata": {},
   "outputs": [
    {
     "data": {
      "text/plain": [
       "['Action', 'Adventure', 'Fantasy', 'Science Fiction']"
      ]
     },
     "execution_count": 17,
     "metadata": {},
     "output_type": "execute_result"
    }
   ],
   "source": [
    "movies.iloc[0].genres"
   ]
  },
  {
   "cell_type": "code",
   "execution_count": 18,
   "id": "115a6ba1",
   "metadata": {},
   "outputs": [],
   "source": [
    "movies['keywords']=movies['keywords'].apply(convert)"
   ]
  },
  {
   "cell_type": "code",
   "execution_count": 19,
   "id": "ce4dd2ba",
   "metadata": {},
   "outputs": [],
   "source": [
    "import ast\n",
    "\n",
    "def convert1(obj):\n",
    "    l=[]\n",
    "    counter =0\n",
    "    for i in ast.literal_eval(obj):\n",
    "        if counter < 3:\n",
    "            l.append(i[\"name\"])\n",
    "            counter +=1\n",
    "        else:\n",
    "            break\n",
    "    return l"
   ]
  },
  {
   "cell_type": "code",
   "execution_count": 20,
   "id": "c02381ad",
   "metadata": {},
   "outputs": [],
   "source": [
    "movies['actor']=movies['cast'].apply(convert1)"
   ]
  },
  {
   "cell_type": "code",
   "execution_count": 21,
   "id": "b0e0400c",
   "metadata": {},
   "outputs": [],
   "source": [
    "import ast\n",
    "\n",
    "def convert2(obj):\n",
    "    l=[]\n",
    "\n",
    "    for i in ast.literal_eval(obj):\n",
    "        if i['job'] == \"Director\":\n",
    "            l.append(i[\"name\"])\n",
    "            break\n",
    "    return l"
   ]
  },
  {
   "cell_type": "code",
   "execution_count": 22,
   "id": "d4525104",
   "metadata": {},
   "outputs": [],
   "source": [
    "movies['crew']=movies['crew'].apply(convert2)"
   ]
  },
  {
   "cell_type": "code",
   "execution_count": 23,
   "id": "633a4e3f",
   "metadata": {},
   "outputs": [],
   "source": [
    "import ast\n",
    "\n",
    "def convert1(obj):\n",
    "    l=[]\n",
    "    counter =0\n",
    "    for i in ast.literal_eval(obj):\n",
    "        if counter < 3:\n",
    "            l.append(i[\"character\"])\n",
    "            counter +=1\n",
    "        else:\n",
    "            break\n",
    "    return l"
   ]
  },
  {
   "cell_type": "code",
   "execution_count": 24,
   "id": "bddc539e",
   "metadata": {},
   "outputs": [],
   "source": [
    "movies['character']=movies['cast'].apply(convert1)"
   ]
  },
  {
   "cell_type": "code",
   "execution_count": null,
   "id": "8588942a",
   "metadata": {},
   "outputs": [],
   "source": []
  },
  {
   "cell_type": "code",
   "execution_count": 25,
   "id": "71029fad",
   "metadata": {},
   "outputs": [],
   "source": [
    "movies['overview']=movies['overview'].apply(lambda x :x.split())"
   ]
  },
  {
   "cell_type": "code",
   "execution_count": 26,
   "id": "f9af8a00",
   "metadata": {},
   "outputs": [],
   "source": [
    "movies['tagline']=movies['tagline'].apply(lambda x :x.split())"
   ]
  },
  {
   "cell_type": "code",
   "execution_count": 27,
   "id": "60fe1338",
   "metadata": {},
   "outputs": [],
   "source": [
    "movies['sub_title']=movies['title'].apply(lambda x :x.split())"
   ]
  },
  {
   "cell_type": "code",
   "execution_count": 28,
   "id": "d657f61f",
   "metadata": {},
   "outputs": [
    {
     "data": {
      "text/html": [
       "<div>\n",
       "<style scoped>\n",
       "    .dataframe tbody tr th:only-of-type {\n",
       "        vertical-align: middle;\n",
       "    }\n",
       "\n",
       "    .dataframe tbody tr th {\n",
       "        vertical-align: top;\n",
       "    }\n",
       "\n",
       "    .dataframe thead th {\n",
       "        text-align: right;\n",
       "    }\n",
       "</style>\n",
       "<table border=\"1\" class=\"dataframe\">\n",
       "  <thead>\n",
       "    <tr style=\"text-align: right;\">\n",
       "      <th></th>\n",
       "      <th>genres</th>\n",
       "      <th>id</th>\n",
       "      <th>keywords</th>\n",
       "      <th>overview</th>\n",
       "      <th>popularity</th>\n",
       "      <th>tagline</th>\n",
       "      <th>title</th>\n",
       "      <th>vote_average</th>\n",
       "      <th>vote_count</th>\n",
       "      <th>cast</th>\n",
       "      <th>crew</th>\n",
       "      <th>wr</th>\n",
       "      <th>actor</th>\n",
       "      <th>character</th>\n",
       "      <th>sub_title</th>\n",
       "    </tr>\n",
       "  </thead>\n",
       "  <tbody>\n",
       "    <tr>\n",
       "      <th>0</th>\n",
       "      <td>[Action, Adventure, Fantasy, Science Fiction]</td>\n",
       "      <td>19995</td>\n",
       "      <td>[culture clash, future, space war, space colon...</td>\n",
       "      <td>[In, the, 22nd, century,, a, paraplegic, Marin...</td>\n",
       "      <td>150.437577</td>\n",
       "      <td>[Enter, the, World, of, Pandora.]</td>\n",
       "      <td>Avatar</td>\n",
       "      <td>7</td>\n",
       "      <td>11800</td>\n",
       "      <td>[{\"cast_id\": 242, \"character\": \"Jake Sully\", \"...</td>\n",
       "      <td>[James Cameron]</td>\n",
       "      <td>6.973607</td>\n",
       "      <td>[Sam Worthington, Zoe Saldana, Sigourney Weaver]</td>\n",
       "      <td>[Jake Sully, Neytiri, Dr. Grace Augustine]</td>\n",
       "      <td>[Avatar]</td>\n",
       "    </tr>\n",
       "    <tr>\n",
       "      <th>1</th>\n",
       "      <td>[Adventure, Fantasy, Action]</td>\n",
       "      <td>285</td>\n",
       "      <td>[ocean, drug abuse, exotic island, east india ...</td>\n",
       "      <td>[Captain, Barbossa,, long, believed, to, be, d...</td>\n",
       "      <td>139.082615</td>\n",
       "      <td>[At, the, end, of, the, world,, the, adventure...</td>\n",
       "      <td>Pirates of the Caribbean: At World's End</td>\n",
       "      <td>6</td>\n",
       "      <td>4500</td>\n",
       "      <td>[{\"cast_id\": 4, \"character\": \"Captain Jack Spa...</td>\n",
       "      <td>[Gore Verbinski]</td>\n",
       "      <td>5.982757</td>\n",
       "      <td>[Johnny Depp, Orlando Bloom, Keira Knightley]</td>\n",
       "      <td>[Captain Jack Sparrow, Will Turner, Elizabeth ...</td>\n",
       "      <td>[Pirates, of, the, Caribbean:, At, World's, End]</td>\n",
       "    </tr>\n",
       "    <tr>\n",
       "      <th>2</th>\n",
       "      <td>[Action, Adventure, Crime]</td>\n",
       "      <td>206647</td>\n",
       "      <td>[spy, based on novel, secret agent, sequel, mi...</td>\n",
       "      <td>[A, cryptic, message, from, Bond’s, past, send...</td>\n",
       "      <td>107.376788</td>\n",
       "      <td>[A, Plan, No, One, Escapes]</td>\n",
       "      <td>Spectre</td>\n",
       "      <td>6</td>\n",
       "      <td>4466</td>\n",
       "      <td>[{\"cast_id\": 1, \"character\": \"James Bond\", \"cr...</td>\n",
       "      <td>[Sam Mendes]</td>\n",
       "      <td>5.982632</td>\n",
       "      <td>[Daniel Craig, Christoph Waltz, Léa Seydoux]</td>\n",
       "      <td>[James Bond, Blofeld, Madeleine]</td>\n",
       "      <td>[Spectre]</td>\n",
       "    </tr>\n",
       "  </tbody>\n",
       "</table>\n",
       "</div>"
      ],
      "text/plain": [
       "                                          genres      id  \\\n",
       "0  [Action, Adventure, Fantasy, Science Fiction]   19995   \n",
       "1                   [Adventure, Fantasy, Action]     285   \n",
       "2                     [Action, Adventure, Crime]  206647   \n",
       "\n",
       "                                            keywords  \\\n",
       "0  [culture clash, future, space war, space colon...   \n",
       "1  [ocean, drug abuse, exotic island, east india ...   \n",
       "2  [spy, based on novel, secret agent, sequel, mi...   \n",
       "\n",
       "                                            overview  popularity  \\\n",
       "0  [In, the, 22nd, century,, a, paraplegic, Marin...  150.437577   \n",
       "1  [Captain, Barbossa,, long, believed, to, be, d...  139.082615   \n",
       "2  [A, cryptic, message, from, Bond’s, past, send...  107.376788   \n",
       "\n",
       "                                             tagline  \\\n",
       "0                  [Enter, the, World, of, Pandora.]   \n",
       "1  [At, the, end, of, the, world,, the, adventure...   \n",
       "2                        [A, Plan, No, One, Escapes]   \n",
       "\n",
       "                                      title  vote_average  vote_count  \\\n",
       "0                                    Avatar             7       11800   \n",
       "1  Pirates of the Caribbean: At World's End             6        4500   \n",
       "2                                   Spectre             6        4466   \n",
       "\n",
       "                                                cast              crew  \\\n",
       "0  [{\"cast_id\": 242, \"character\": \"Jake Sully\", \"...   [James Cameron]   \n",
       "1  [{\"cast_id\": 4, \"character\": \"Captain Jack Spa...  [Gore Verbinski]   \n",
       "2  [{\"cast_id\": 1, \"character\": \"James Bond\", \"cr...      [Sam Mendes]   \n",
       "\n",
       "         wr                                             actor  \\\n",
       "0  6.973607  [Sam Worthington, Zoe Saldana, Sigourney Weaver]   \n",
       "1  5.982757     [Johnny Depp, Orlando Bloom, Keira Knightley]   \n",
       "2  5.982632      [Daniel Craig, Christoph Waltz, Léa Seydoux]   \n",
       "\n",
       "                                           character  \\\n",
       "0         [Jake Sully, Neytiri, Dr. Grace Augustine]   \n",
       "1  [Captain Jack Sparrow, Will Turner, Elizabeth ...   \n",
       "2                   [James Bond, Blofeld, Madeleine]   \n",
       "\n",
       "                                          sub_title  \n",
       "0                                          [Avatar]  \n",
       "1  [Pirates, of, the, Caribbean:, At, World's, End]  \n",
       "2                                         [Spectre]  "
      ]
     },
     "execution_count": 28,
     "metadata": {},
     "output_type": "execute_result"
    }
   ],
   "source": [
    "movies.head(3)"
   ]
  },
  {
   "cell_type": "code",
   "execution_count": 29,
   "id": "a8f1c268",
   "metadata": {},
   "outputs": [
    {
     "data": {
      "text/plain": [
       "(4806, 15)"
      ]
     },
     "execution_count": 29,
     "metadata": {},
     "output_type": "execute_result"
    }
   ],
   "source": [
    "movies.shape"
   ]
  },
  {
   "cell_type": "code",
   "execution_count": 30,
   "id": "780f4b4c",
   "metadata": {},
   "outputs": [],
   "source": [
    "movies['genres']=movies['genres'].apply(lambda x :[i.replace(\" \",\"\") for i in x])\n",
    "movies['keywords_conv']=movies['keywords'].apply(lambda x :[i.replace(\" \",\"\") for i in x])\n",
    "movies['crew']=movies['crew'].apply(lambda x :[i.replace(\" \",\"\") for i in x])\n",
    "movies['actor']=movies['actor'].apply(lambda x :[i.replace(\" \",\"\") for i in x])\n",
    "movies['character']=movies['character'].apply(lambda x :[i.replace(\" \",\"\") for i in x])\n",
    "\n"
   ]
  },
  {
   "cell_type": "code",
   "execution_count": 31,
   "id": "26b01f04",
   "metadata": {},
   "outputs": [
    {
     "data": {
      "text/html": [
       "<div>\n",
       "<style scoped>\n",
       "    .dataframe tbody tr th:only-of-type {\n",
       "        vertical-align: middle;\n",
       "    }\n",
       "\n",
       "    .dataframe tbody tr th {\n",
       "        vertical-align: top;\n",
       "    }\n",
       "\n",
       "    .dataframe thead th {\n",
       "        text-align: right;\n",
       "    }\n",
       "</style>\n",
       "<table border=\"1\" class=\"dataframe\">\n",
       "  <thead>\n",
       "    <tr style=\"text-align: right;\">\n",
       "      <th></th>\n",
       "      <th>genres</th>\n",
       "      <th>id</th>\n",
       "      <th>keywords</th>\n",
       "      <th>overview</th>\n",
       "      <th>popularity</th>\n",
       "      <th>tagline</th>\n",
       "      <th>title</th>\n",
       "      <th>vote_average</th>\n",
       "      <th>vote_count</th>\n",
       "      <th>cast</th>\n",
       "      <th>crew</th>\n",
       "      <th>wr</th>\n",
       "      <th>actor</th>\n",
       "      <th>character</th>\n",
       "      <th>sub_title</th>\n",
       "      <th>keywords_conv</th>\n",
       "    </tr>\n",
       "  </thead>\n",
       "  <tbody>\n",
       "    <tr>\n",
       "      <th>0</th>\n",
       "      <td>[Action, Adventure, Fantasy, ScienceFiction]</td>\n",
       "      <td>19995</td>\n",
       "      <td>[culture clash, future, space war, space colon...</td>\n",
       "      <td>[In, the, 22nd, century,, a, paraplegic, Marin...</td>\n",
       "      <td>150.437577</td>\n",
       "      <td>[Enter, the, World, of, Pandora.]</td>\n",
       "      <td>Avatar</td>\n",
       "      <td>7</td>\n",
       "      <td>11800</td>\n",
       "      <td>[{\"cast_id\": 242, \"character\": \"Jake Sully\", \"...</td>\n",
       "      <td>[JamesCameron]</td>\n",
       "      <td>6.973607</td>\n",
       "      <td>[SamWorthington, ZoeSaldana, SigourneyWeaver]</td>\n",
       "      <td>[JakeSully, Neytiri, Dr.GraceAugustine]</td>\n",
       "      <td>[Avatar]</td>\n",
       "      <td>[cultureclash, future, spacewar, spacecolony, ...</td>\n",
       "    </tr>\n",
       "    <tr>\n",
       "      <th>1</th>\n",
       "      <td>[Adventure, Fantasy, Action]</td>\n",
       "      <td>285</td>\n",
       "      <td>[ocean, drug abuse, exotic island, east india ...</td>\n",
       "      <td>[Captain, Barbossa,, long, believed, to, be, d...</td>\n",
       "      <td>139.082615</td>\n",
       "      <td>[At, the, end, of, the, world,, the, adventure...</td>\n",
       "      <td>Pirates of the Caribbean: At World's End</td>\n",
       "      <td>6</td>\n",
       "      <td>4500</td>\n",
       "      <td>[{\"cast_id\": 4, \"character\": \"Captain Jack Spa...</td>\n",
       "      <td>[GoreVerbinski]</td>\n",
       "      <td>5.982757</td>\n",
       "      <td>[JohnnyDepp, OrlandoBloom, KeiraKnightley]</td>\n",
       "      <td>[CaptainJackSparrow, WillTurner, ElizabethSwann]</td>\n",
       "      <td>[Pirates, of, the, Caribbean:, At, World's, End]</td>\n",
       "      <td>[ocean, drugabuse, exoticisland, eastindiatrad...</td>\n",
       "    </tr>\n",
       "  </tbody>\n",
       "</table>\n",
       "</div>"
      ],
      "text/plain": [
       "                                         genres     id  \\\n",
       "0  [Action, Adventure, Fantasy, ScienceFiction]  19995   \n",
       "1                  [Adventure, Fantasy, Action]    285   \n",
       "\n",
       "                                            keywords  \\\n",
       "0  [culture clash, future, space war, space colon...   \n",
       "1  [ocean, drug abuse, exotic island, east india ...   \n",
       "\n",
       "                                            overview  popularity  \\\n",
       "0  [In, the, 22nd, century,, a, paraplegic, Marin...  150.437577   \n",
       "1  [Captain, Barbossa,, long, believed, to, be, d...  139.082615   \n",
       "\n",
       "                                             tagline  \\\n",
       "0                  [Enter, the, World, of, Pandora.]   \n",
       "1  [At, the, end, of, the, world,, the, adventure...   \n",
       "\n",
       "                                      title  vote_average  vote_count  \\\n",
       "0                                    Avatar             7       11800   \n",
       "1  Pirates of the Caribbean: At World's End             6        4500   \n",
       "\n",
       "                                                cast             crew  \\\n",
       "0  [{\"cast_id\": 242, \"character\": \"Jake Sully\", \"...   [JamesCameron]   \n",
       "1  [{\"cast_id\": 4, \"character\": \"Captain Jack Spa...  [GoreVerbinski]   \n",
       "\n",
       "         wr                                          actor  \\\n",
       "0  6.973607  [SamWorthington, ZoeSaldana, SigourneyWeaver]   \n",
       "1  5.982757     [JohnnyDepp, OrlandoBloom, KeiraKnightley]   \n",
       "\n",
       "                                          character  \\\n",
       "0           [JakeSully, Neytiri, Dr.GraceAugustine]   \n",
       "1  [CaptainJackSparrow, WillTurner, ElizabethSwann]   \n",
       "\n",
       "                                          sub_title  \\\n",
       "0                                          [Avatar]   \n",
       "1  [Pirates, of, the, Caribbean:, At, World's, End]   \n",
       "\n",
       "                                       keywords_conv  \n",
       "0  [cultureclash, future, spacewar, spacecolony, ...  \n",
       "1  [ocean, drugabuse, exoticisland, eastindiatrad...  "
      ]
     },
     "execution_count": 31,
     "metadata": {},
     "output_type": "execute_result"
    }
   ],
   "source": [
    "movies.head(2)"
   ]
  },
  {
   "cell_type": "code",
   "execution_count": 32,
   "id": "0c0f6dc8",
   "metadata": {},
   "outputs": [],
   "source": [
    "movies['tags'] = movies['genres'] + movies['overview'] + movies['tagline'] + movies['keywords_conv']+movies['crew']+movies['actor']+ movies['character']"
   ]
  },
  {
   "cell_type": "code",
   "execution_count": 33,
   "id": "35484e5d",
   "metadata": {},
   "outputs": [],
   "source": [
    "movies['description'] = movies['genres'] + movies['keywords'] + movies['overview'] + movies['tagline'] + movies['crew']+movies['actor']+movies['character']+movies['sub_title']"
   ]
  },
  {
   "cell_type": "code",
   "execution_count": 34,
   "id": "b2457399",
   "metadata": {},
   "outputs": [],
   "source": [
    "new_id = list(range(0,movies.shape[0]))\n",
    "movies['temp_index']=new_id"
   ]
  },
  {
   "cell_type": "code",
   "execution_count": 35,
   "id": "25132643",
   "metadata": {},
   "outputs": [],
   "source": [
    "new_df = movies[['temp_index','id','title','tags','vote_average','vote_count','popularity','wr','description']]"
   ]
  },
  {
   "cell_type": "code",
   "execution_count": 36,
   "id": "8667fa9c",
   "metadata": {},
   "outputs": [
    {
     "data": {
      "text/html": [
       "<div>\n",
       "<style scoped>\n",
       "    .dataframe tbody tr th:only-of-type {\n",
       "        vertical-align: middle;\n",
       "    }\n",
       "\n",
       "    .dataframe tbody tr th {\n",
       "        vertical-align: top;\n",
       "    }\n",
       "\n",
       "    .dataframe thead th {\n",
       "        text-align: right;\n",
       "    }\n",
       "</style>\n",
       "<table border=\"1\" class=\"dataframe\">\n",
       "  <thead>\n",
       "    <tr style=\"text-align: right;\">\n",
       "      <th></th>\n",
       "      <th>temp_index</th>\n",
       "      <th>id</th>\n",
       "      <th>title</th>\n",
       "      <th>tags</th>\n",
       "      <th>vote_average</th>\n",
       "      <th>vote_count</th>\n",
       "      <th>popularity</th>\n",
       "      <th>wr</th>\n",
       "      <th>description</th>\n",
       "    </tr>\n",
       "  </thead>\n",
       "  <tbody>\n",
       "    <tr>\n",
       "      <th>0</th>\n",
       "      <td>0</td>\n",
       "      <td>19995</td>\n",
       "      <td>Avatar</td>\n",
       "      <td>[Action, Adventure, Fantasy, ScienceFiction, I...</td>\n",
       "      <td>7</td>\n",
       "      <td>11800</td>\n",
       "      <td>150.437577</td>\n",
       "      <td>6.973607</td>\n",
       "      <td>[Action, Adventure, Fantasy, ScienceFiction, c...</td>\n",
       "    </tr>\n",
       "    <tr>\n",
       "      <th>1</th>\n",
       "      <td>1</td>\n",
       "      <td>285</td>\n",
       "      <td>Pirates of the Caribbean: At World's End</td>\n",
       "      <td>[Adventure, Fantasy, Action, Captain, Barbossa...</td>\n",
       "      <td>6</td>\n",
       "      <td>4500</td>\n",
       "      <td>139.082615</td>\n",
       "      <td>5.982757</td>\n",
       "      <td>[Adventure, Fantasy, Action, ocean, drug abuse...</td>\n",
       "    </tr>\n",
       "    <tr>\n",
       "      <th>2</th>\n",
       "      <td>2</td>\n",
       "      <td>206647</td>\n",
       "      <td>Spectre</td>\n",
       "      <td>[Action, Adventure, Crime, A, cryptic, message...</td>\n",
       "      <td>6</td>\n",
       "      <td>4466</td>\n",
       "      <td>107.376788</td>\n",
       "      <td>5.982632</td>\n",
       "      <td>[Action, Adventure, Crime, spy, based on novel...</td>\n",
       "    </tr>\n",
       "  </tbody>\n",
       "</table>\n",
       "</div>"
      ],
      "text/plain": [
       "   temp_index      id                                     title  \\\n",
       "0           0   19995                                    Avatar   \n",
       "1           1     285  Pirates of the Caribbean: At World's End   \n",
       "2           2  206647                                   Spectre   \n",
       "\n",
       "                                                tags  vote_average  \\\n",
       "0  [Action, Adventure, Fantasy, ScienceFiction, I...             7   \n",
       "1  [Adventure, Fantasy, Action, Captain, Barbossa...             6   \n",
       "2  [Action, Adventure, Crime, A, cryptic, message...             6   \n",
       "\n",
       "   vote_count  popularity        wr  \\\n",
       "0       11800  150.437577  6.973607   \n",
       "1        4500  139.082615  5.982757   \n",
       "2        4466  107.376788  5.982632   \n",
       "\n",
       "                                         description  \n",
       "0  [Action, Adventure, Fantasy, ScienceFiction, c...  \n",
       "1  [Adventure, Fantasy, Action, ocean, drug abuse...  \n",
       "2  [Action, Adventure, Crime, spy, based on novel...  "
      ]
     },
     "execution_count": 36,
     "metadata": {},
     "output_type": "execute_result"
    }
   ],
   "source": [
    "new_df.head(3)"
   ]
  },
  {
   "cell_type": "code",
   "execution_count": 37,
   "id": "7ecf8bac",
   "metadata": {},
   "outputs": [
    {
     "name": "stderr",
     "output_type": "stream",
     "text": [
      "C:\\Users\\Admin\\AppData\\Local\\Temp\\ipykernel_2712\\3208536249.py:1: SettingWithCopyWarning: \n",
      "A value is trying to be set on a copy of a slice from a DataFrame.\n",
      "Try using .loc[row_indexer,col_indexer] = value instead\n",
      "\n",
      "See the caveats in the documentation: https://pandas.pydata.org/pandas-docs/stable/user_guide/indexing.html#returning-a-view-versus-a-copy\n",
      "  new_df['tags']=new_df['tags'].apply(lambda x :\" \".join(x))\n",
      "C:\\Users\\Admin\\AppData\\Local\\Temp\\ipykernel_2712\\3208536249.py:2: SettingWithCopyWarning: \n",
      "A value is trying to be set on a copy of a slice from a DataFrame.\n",
      "Try using .loc[row_indexer,col_indexer] = value instead\n",
      "\n",
      "See the caveats in the documentation: https://pandas.pydata.org/pandas-docs/stable/user_guide/indexing.html#returning-a-view-versus-a-copy\n",
      "  new_df['tags']= new_df['tags'].apply(lambda x:x.lower())\n"
     ]
    }
   ],
   "source": [
    "new_df['tags']=new_df['tags'].apply(lambda x :\" \".join(x))\n",
    "new_df['tags']= new_df['tags'].apply(lambda x:x.lower())"
   ]
  },
  {
   "cell_type": "code",
   "execution_count": 38,
   "id": "3c92f031",
   "metadata": {
    "scrolled": true
   },
   "outputs": [
    {
     "data": {
      "text/html": [
       "<div>\n",
       "<style scoped>\n",
       "    .dataframe tbody tr th:only-of-type {\n",
       "        vertical-align: middle;\n",
       "    }\n",
       "\n",
       "    .dataframe tbody tr th {\n",
       "        vertical-align: top;\n",
       "    }\n",
       "\n",
       "    .dataframe thead th {\n",
       "        text-align: right;\n",
       "    }\n",
       "</style>\n",
       "<table border=\"1\" class=\"dataframe\">\n",
       "  <thead>\n",
       "    <tr style=\"text-align: right;\">\n",
       "      <th></th>\n",
       "      <th>temp_index</th>\n",
       "      <th>id</th>\n",
       "      <th>title</th>\n",
       "      <th>tags</th>\n",
       "      <th>vote_average</th>\n",
       "      <th>vote_count</th>\n",
       "      <th>popularity</th>\n",
       "      <th>wr</th>\n",
       "      <th>description</th>\n",
       "    </tr>\n",
       "  </thead>\n",
       "  <tbody>\n",
       "    <tr>\n",
       "      <th>0</th>\n",
       "      <td>0</td>\n",
       "      <td>19995</td>\n",
       "      <td>Avatar</td>\n",
       "      <td>action adventure fantasy sciencefiction in the...</td>\n",
       "      <td>7</td>\n",
       "      <td>11800</td>\n",
       "      <td>150.437577</td>\n",
       "      <td>6.973607</td>\n",
       "      <td>[Action, Adventure, Fantasy, ScienceFiction, c...</td>\n",
       "    </tr>\n",
       "    <tr>\n",
       "      <th>1</th>\n",
       "      <td>1</td>\n",
       "      <td>285</td>\n",
       "      <td>Pirates of the Caribbean: At World's End</td>\n",
       "      <td>adventure fantasy action captain barbossa, lon...</td>\n",
       "      <td>6</td>\n",
       "      <td>4500</td>\n",
       "      <td>139.082615</td>\n",
       "      <td>5.982757</td>\n",
       "      <td>[Adventure, Fantasy, Action, ocean, drug abuse...</td>\n",
       "    </tr>\n",
       "  </tbody>\n",
       "</table>\n",
       "</div>"
      ],
      "text/plain": [
       "   temp_index     id                                     title  \\\n",
       "0           0  19995                                    Avatar   \n",
       "1           1    285  Pirates of the Caribbean: At World's End   \n",
       "\n",
       "                                                tags  vote_average  \\\n",
       "0  action adventure fantasy sciencefiction in the...             7   \n",
       "1  adventure fantasy action captain barbossa, lon...             6   \n",
       "\n",
       "   vote_count  popularity        wr  \\\n",
       "0       11800  150.437577  6.973607   \n",
       "1        4500  139.082615  5.982757   \n",
       "\n",
       "                                         description  \n",
       "0  [Action, Adventure, Fantasy, ScienceFiction, c...  \n",
       "1  [Adventure, Fantasy, Action, ocean, drug abuse...  "
      ]
     },
     "execution_count": 38,
     "metadata": {},
     "output_type": "execute_result"
    }
   ],
   "source": [
    "new_df.head(2)"
   ]
  },
  {
   "cell_type": "code",
   "execution_count": 39,
   "id": "ca260e9a",
   "metadata": {},
   "outputs": [
    {
     "name": "stderr",
     "output_type": "stream",
     "text": [
      "C:\\Users\\Admin\\AppData\\Local\\Temp\\ipykernel_2712\\3420659576.py:1: SettingWithCopyWarning: \n",
      "A value is trying to be set on a copy of a slice from a DataFrame.\n",
      "Try using .loc[row_indexer,col_indexer] = value instead\n",
      "\n",
      "See the caveats in the documentation: https://pandas.pydata.org/pandas-docs/stable/user_guide/indexing.html#returning-a-view-versus-a-copy\n",
      "  new_df['description']=new_df['description'].apply(lambda x :\" \".join(x))\n",
      "C:\\Users\\Admin\\AppData\\Local\\Temp\\ipykernel_2712\\3420659576.py:2: SettingWithCopyWarning: \n",
      "A value is trying to be set on a copy of a slice from a DataFrame.\n",
      "Try using .loc[row_indexer,col_indexer] = value instead\n",
      "\n",
      "See the caveats in the documentation: https://pandas.pydata.org/pandas-docs/stable/user_guide/indexing.html#returning-a-view-versus-a-copy\n",
      "  new_df['description']= new_df['description'].apply(lambda x:x.lower())\n",
      "C:\\Users\\Admin\\AppData\\Local\\Temp\\ipykernel_2712\\3420659576.py:3: SettingWithCopyWarning: \n",
      "A value is trying to be set on a copy of a slice from a DataFrame.\n",
      "Try using .loc[row_indexer,col_indexer] = value instead\n",
      "\n",
      "See the caveats in the documentation: https://pandas.pydata.org/pandas-docs/stable/user_guide/indexing.html#returning-a-view-versus-a-copy\n",
      "  new_df['description'] = new_df['description'].str.strip('[]').str.replace(' ',' ').str.replace(\"'\",' ').str.replace('\"',' ')\n"
     ]
    }
   ],
   "source": [
    "new_df['description']=new_df['description'].apply(lambda x :\" \".join(x))\n",
    "new_df['description']= new_df['description'].apply(lambda x:x.lower())\n",
    "new_df['description'] = new_df['description'].str.strip('[]').str.replace(' ',' ').str.replace(\"'\",' ').str.replace('\"',' ')"
   ]
  },
  {
   "cell_type": "code",
   "execution_count": 40,
   "id": "879e19d7",
   "metadata": {},
   "outputs": [
    {
     "name": "stderr",
     "output_type": "stream",
     "text": [
      "C:\\Users\\Admin\\AppData\\Local\\Temp\\ipykernel_2712\\2107399714.py:10: SettingWithCopyWarning: \n",
      "A value is trying to be set on a copy of a slice from a DataFrame.\n",
      "Try using .loc[row_indexer,col_indexer] = value instead\n",
      "\n",
      "See the caveats in the documentation: https://pandas.pydata.org/pandas-docs/stable/user_guide/indexing.html#returning-a-view-versus-a-copy\n",
      "  new_df['tags'] = new_df['tags'].apply(stemm)\n"
     ]
    }
   ],
   "source": [
    "from nltk.stem.snowball import SnowballStemmer\n",
    "stemmer = SnowballStemmer('english')\n",
    "def stemm(text):\n",
    "    y = []\n",
    "    for i in text.split():\n",
    "        y.append(stemmer.stem(i))\n",
    "        \n",
    "    return \" \".join(y)\n",
    "\n",
    "new_df['tags'] = new_df['tags'].apply(stemm)\n",
    "        "
   ]
  },
  {
   "cell_type": "code",
   "execution_count": 41,
   "id": "6a5f1414",
   "metadata": {},
   "outputs": [
    {
     "data": {
      "text/plain": [
       "0       action adventur fantasi sciencefict in the 22n...\n",
       "1       adventur fantasi action captain barbossa, long...\n",
       "2       action adventur crime a cryptic messag from bo...\n",
       "3       action crime drama thriller follow the death o...\n",
       "4       action adventur sciencefict john carter is a w...\n",
       "                              ...                        \n",
       "4801    action crime thriller el mariachi just want to...\n",
       "4802    comedi romanc a newlyw coupl honeymoon is upen...\n",
       "4803    comedi drama romanc tvmovi \"signed, sealed, de...\n",
       "4804    when ambiti new york attorney sam is sent to s...\n",
       "4805    documentari ever sinc the second grade when he...\n",
       "Name: tags, Length: 4806, dtype: object"
      ]
     },
     "execution_count": 41,
     "metadata": {},
     "output_type": "execute_result"
    }
   ],
   "source": [
    "new_df['tags']"
   ]
  },
  {
   "cell_type": "code",
   "execution_count": 42,
   "id": "da968930",
   "metadata": {},
   "outputs": [],
   "source": [
    "from sklearn.feature_extraction.text import TfidfVectorizer\n",
    "vectorizer = TfidfVectorizer(stop_words = 'english')\n",
    "\n",
    "tfidf = vectorizer.fit_transform(new_df['tags']).toarray()"
   ]
  },
  {
   "cell_type": "code",
   "execution_count": 43,
   "id": "99e3c679",
   "metadata": {},
   "outputs": [
    {
     "data": {
      "text/plain": [
       "(4806, 43412)"
      ]
     },
     "execution_count": 43,
     "metadata": {},
     "output_type": "execute_result"
    }
   ],
   "source": [
    "tfidf.shape"
   ]
  },
  {
   "cell_type": "code",
   "execution_count": 44,
   "id": "f7d2c8b6",
   "metadata": {},
   "outputs": [],
   "source": [
    "from sklearn.metrics.pairwise import cosine_similarity\n",
    "similarity1 = cosine_similarity(tfidf)    "
   ]
  },
  {
   "cell_type": "code",
   "execution_count": 45,
   "id": "b407b75b",
   "metadata": {},
   "outputs": [
    {
     "data": {
      "text/plain": [
       "array([[1.        , 0.02051937, 0.0159563 , ..., 0.0155875 , 0.        ,\n",
       "        0.        ],\n",
       "       [0.02051937, 1.        , 0.01217914, ..., 0.01180416, 0.00745192,\n",
       "        0.        ],\n",
       "       [0.0159563 , 0.01217914, 1.        , ..., 0.00924531, 0.        ,\n",
       "        0.        ],\n",
       "       ...,\n",
       "       [0.0155875 , 0.01180416, 0.00924531, ..., 1.        , 0.01038072,\n",
       "        0.01673488],\n",
       "       [0.        , 0.00745192, 0.        , ..., 0.01038072, 1.        ,\n",
       "        0.01248439],\n",
       "       [0.        , 0.        , 0.        , ..., 0.01673488, 0.01248439,\n",
       "        1.        ]])"
      ]
     },
     "execution_count": 45,
     "metadata": {},
     "output_type": "execute_result"
    }
   ],
   "source": [
    "similarity1"
   ]
  },
  {
   "cell_type": "code",
   "execution_count": 46,
   "id": "48309a60",
   "metadata": {},
   "outputs": [
    {
     "data": {
      "text/plain": [
       "(4806, 4806)"
      ]
     },
     "execution_count": 46,
     "metadata": {},
     "output_type": "execute_result"
    }
   ],
   "source": [
    "similarity1.shape"
   ]
  },
  {
   "cell_type": "code",
   "execution_count": 47,
   "id": "1b903bb6",
   "metadata": {},
   "outputs": [
    {
     "name": "stderr",
     "output_type": "stream",
     "text": [
      "C:\\Users\\Admin\\AppData\\Local\\Temp\\ipykernel_2712\\1346696753.py:1: SettingWithCopyWarning: \n",
      "A value is trying to be set on a copy of a slice from a DataFrame.\n",
      "Try using .loc[row_indexer,col_indexer] = value instead\n",
      "\n",
      "See the caveats in the documentation: https://pandas.pydata.org/pandas-docs/stable/user_guide/indexing.html#returning-a-view-versus-a-copy\n",
      "  new_df['similarity_col'] = similarity1.tolist()\n"
     ]
    }
   ],
   "source": [
    "new_df['similarity_col'] = similarity1.tolist()"
   ]
  },
  {
   "cell_type": "code",
   "execution_count": 48,
   "id": "1c6caa24",
   "metadata": {},
   "outputs": [],
   "source": [
    "def predictMovie1(name):\n",
    "    try:\n",
    "        new_entry = new_df[new_df['title']==name].index[0]\n",
    "        distance = similarity1[new_entry]\n",
    "#         return distance\n",
    "        movie_list = sorted(list(enumerate(distance)), reverse = True, key = lambda x : x[1])[0:20]\n",
    "#         return movie_list\n",
    "        for i in movie_list:\n",
    "            print(str(i[1]) +\" - \" + str(new_df.iloc[i[0]].temp_index) + \"-\" + new_df.iloc[i[0]].title)\n",
    "        \n",
    "    except IndexError as e:\n",
    "        print('---')\n",
    "        "
   ]
  },
  {
   "cell_type": "code",
   "execution_count": 49,
   "id": "e5f9ceb7",
   "metadata": {},
   "outputs": [],
   "source": [
    "# 1.0000000000000002 - 160-How to Train Your Dragon 2\n",
    "# 0.3855587197941137 - 92-How to Train Your Dragon\n",
    "# 0.2703066833838685 - 292-Eragon\n",
    "# 0.25918264132768054 - 1309-Dragon Nest: Warriors' Dawn\n",
    "# 0.243885054889215 - 746-Reign of Fire\n",
    "# 0.24001639110857517 - 2449-Dragon Hunters\n",
    "# 0.2162190653334646 - 2372-Dragonslayer\n",
    "# 0.20986105065071606 - 3017-Pete's Dragon\n",
    "# 0.2077188765260499 - 1530-George and the Dragon\n",
    "# 0.17364857063928021 - 352-Mulan\n",
    "# 0.16460923218361104 - 152-Kung Fu Panda 3\n",
    "# 0.15533280567423 - 1318-Rock Star\n",
    "# 0.147532764253935 - 2142-Team America: World Police\n",
    "# 0.1445234641710509 - 22-The Hobbit: The Desolation of Smaug\n",
    "# 0.12929512563908088 - 234-The Croods\n",
    "# 0.11665910609041501 - 106-Shrek the Third\n",
    "# 0.11324386774486173 - 678-Dragon Blade\n",
    "# 0.11148674984308268 - 66-Up\n",
    "# 0.1106100920009728 - 942-The Book of Life\n",
    "# 0.11032201008395734 - 506-Despicable Me 2"
   ]
  },
  {
   "cell_type": "code",
   "execution_count": 50,
   "id": "a7f579c9",
   "metadata": {},
   "outputs": [
    {
     "name": "stdout",
     "output_type": "stream",
     "text": [
      "1.0 - 1157-Fifty Shades of Grey\n",
      "0.17592880339775513 - 3618-Saved!\n",
      "0.13510363392895844 - 3928-Real Women Have Curves\n",
      "0.1296351973534074 - 3780-Red State\n",
      "0.12220766518524193 - 3613-Fifty Shades of Black\n",
      "0.09659214442475605 - 3482-College\n",
      "0.09628016992024693 - 4522-To Save A Life\n",
      "0.09579323724408781 - 4650-The Canyons\n",
      "0.09480995763575108 - 4446-Latter Days\n",
      "0.08892230075683803 - 4208-Grace Unplugged\n",
      "0.08843778815779996 - 4294-Sex, Lies, and Videotape\n",
      "0.08212963511231809 - 4422-Steppin: The Movie\n",
      "0.07825887172550784 - 3800-Mondays in the Sun\n",
      "0.07744339854381185 - 36-Transformers: Age of Extinction\n",
      "0.07526706664892824 - 4381-Ajami\n",
      "0.07140930005698491 - 4176-Nowhere Boy\n",
      "0.07007434231183866 - 4495-After\n",
      "0.06962818585153968 - 3070-Black or White\n",
      "0.06841360821631941 - 650-Eyes Wide Shut\n",
      "0.06644173709161358 - 4183-Higher Ground\n"
     ]
    }
   ],
   "source": [
    "predictMovie1('Fifty Shades of Grey')"
   ]
  },
  {
   "cell_type": "code",
   "execution_count": 51,
   "id": "e511c16b",
   "metadata": {},
   "outputs": [],
   "source": [
    "# threshold - 0.08222"
   ]
  },
  {
   "cell_type": "code",
   "execution_count": 52,
   "id": "cd8ea646",
   "metadata": {},
   "outputs": [
    {
     "data": {
      "text/plain": [
       "temp_index                                                     4312\n",
       "id                                                            86331\n",
       "title                                                        Desire\n",
       "tags              drama romanc in a social context deterior by a...\n",
       "vote_average                                                      4\n",
       "vote_count                                                      140\n",
       "popularity                                                20.422246\n",
       "wr                                                         5.038133\n",
       "description       drama romance france female nudity sex sexuali...\n",
       "similarity_col    [0.006625090163270772, 0.00403640968629574, 0....\n",
       "Name: 4312, dtype: object"
      ]
     },
     "execution_count": 52,
     "metadata": {},
     "output_type": "execute_result"
    }
   ],
   "source": [
    "new_df.iloc[4312]"
   ]
  },
  {
   "cell_type": "code",
   "execution_count": 53,
   "id": "b16fbb4a",
   "metadata": {},
   "outputs": [
    {
     "data": {
      "text/html": [
       "<div>\n",
       "<style scoped>\n",
       "    .dataframe tbody tr th:only-of-type {\n",
       "        vertical-align: middle;\n",
       "    }\n",
       "\n",
       "    .dataframe tbody tr th {\n",
       "        vertical-align: top;\n",
       "    }\n",
       "\n",
       "    .dataframe thead th {\n",
       "        text-align: right;\n",
       "    }\n",
       "</style>\n",
       "<table border=\"1\" class=\"dataframe\">\n",
       "  <thead>\n",
       "    <tr style=\"text-align: right;\">\n",
       "      <th></th>\n",
       "      <th>temp_index</th>\n",
       "      <th>id</th>\n",
       "      <th>title</th>\n",
       "      <th>tags</th>\n",
       "      <th>vote_average</th>\n",
       "      <th>vote_count</th>\n",
       "      <th>popularity</th>\n",
       "      <th>wr</th>\n",
       "      <th>description</th>\n",
       "      <th>similarity_col</th>\n",
       "    </tr>\n",
       "  </thead>\n",
       "  <tbody>\n",
       "    <tr>\n",
       "      <th>5</th>\n",
       "      <td>5</td>\n",
       "      <td>559</td>\n",
       "      <td>Spider-Man 3</td>\n",
       "      <td>fantasi action adventur the seem invinc spider...</td>\n",
       "      <td>5</td>\n",
       "      <td>3576</td>\n",
       "      <td>115.699814</td>\n",
       "      <td>5.040487</td>\n",
       "      <td>fantasy action adventure dual identity amnesia...</td>\n",
       "      <td>[0.032689948612018196, 0.0420275429486921, 0.0...</td>\n",
       "    </tr>\n",
       "    <tr>\n",
       "      <th>7</th>\n",
       "      <td>7</td>\n",
       "      <td>99861</td>\n",
       "      <td>Avengers: Age of Ultron</td>\n",
       "      <td>action adventur sciencefict when toni stark tr...</td>\n",
       "      <td>7</td>\n",
       "      <td>6767</td>\n",
       "      <td>134.279229</td>\n",
       "      <td>6.954639</td>\n",
       "      <td>action adventure sciencefiction marvel comic s...</td>\n",
       "      <td>[0.03920364303150096, 0.05101555754194145, 0.0...</td>\n",
       "    </tr>\n",
       "    <tr>\n",
       "      <th>16</th>\n",
       "      <td>16</td>\n",
       "      <td>24428</td>\n",
       "      <td>The Avengers</td>\n",
       "      <td>sciencefict action adventur when an unexpect e...</td>\n",
       "      <td>7</td>\n",
       "      <td>11776</td>\n",
       "      <td>144.448633</td>\n",
       "      <td>6.973555</td>\n",
       "      <td>sciencefiction action adventure new york shiel...</td>\n",
       "      <td>[0.014976470731779067, 0.04644197820444866, 0....</td>\n",
       "    </tr>\n",
       "    <tr>\n",
       "      <th>20</th>\n",
       "      <td>20</td>\n",
       "      <td>1930</td>\n",
       "      <td>The Amazing Spider-Man</td>\n",
       "      <td>action adventur fantasi peter parker is an out...</td>\n",
       "      <td>6</td>\n",
       "      <td>6586</td>\n",
       "      <td>89.866276</td>\n",
       "      <td>5.988030</td>\n",
       "      <td>action adventure fantasy loss of father vigila...</td>\n",
       "      <td>[0.022202431870110385, 0.029860471669754692, 0...</td>\n",
       "    </tr>\n",
       "    <tr>\n",
       "      <th>26</th>\n",
       "      <td>26</td>\n",
       "      <td>271110</td>\n",
       "      <td>Captain America: Civil War</td>\n",
       "      <td>adventur action sciencefict follow the event o...</td>\n",
       "      <td>7</td>\n",
       "      <td>7241</td>\n",
       "      <td>198.372395</td>\n",
       "      <td>6.957515</td>\n",
       "      <td>adventure action sciencefiction civil war war ...</td>\n",
       "      <td>[0.042341211754588444, 0.04105070920536811, 0....</td>\n",
       "    </tr>\n",
       "    <tr>\n",
       "      <th>30</th>\n",
       "      <td>30</td>\n",
       "      <td>558</td>\n",
       "      <td>Spider-Man 2</td>\n",
       "      <td>action adventur fantasi peter parker is go thr...</td>\n",
       "      <td>6</td>\n",
       "      <td>4321</td>\n",
       "      <td>35.149586</td>\n",
       "      <td>5.982080</td>\n",
       "      <td>action adventure fantasy dual identity love of...</td>\n",
       "      <td>[0.010497778944072002, 0.047271690396223934, 0...</td>\n",
       "    </tr>\n",
       "    <tr>\n",
       "      <th>31</th>\n",
       "      <td>31</td>\n",
       "      <td>68721</td>\n",
       "      <td>Iron Man 3</td>\n",
       "      <td>action adventur sciencefict when toni stark wo...</td>\n",
       "      <td>6</td>\n",
       "      <td>8806</td>\n",
       "      <td>77.682080</td>\n",
       "      <td>5.990969</td>\n",
       "      <td>action adventure sciencefiction terrorist war ...</td>\n",
       "      <td>[0.038495213400598416, 0.02302555559899858, 0....</td>\n",
       "    </tr>\n",
       "    <tr>\n",
       "      <th>33</th>\n",
       "      <td>33</td>\n",
       "      <td>36668</td>\n",
       "      <td>X-Men: The Last Stand</td>\n",
       "      <td>adventur action sciencefict thriller when a cu...</td>\n",
       "      <td>6</td>\n",
       "      <td>3525</td>\n",
       "      <td>3.857526</td>\n",
       "      <td>5.978287</td>\n",
       "      <td>adventure action sciencefiction thriller mutan...</td>\n",
       "      <td>[0.012003566064186545, 0.023331081086574054, 0...</td>\n",
       "    </tr>\n",
       "    <tr>\n",
       "      <th>38</th>\n",
       "      <td>38</td>\n",
       "      <td>102382</td>\n",
       "      <td>The Amazing Spider-Man 2</td>\n",
       "      <td>action adventur fantasi for peter parker, life...</td>\n",
       "      <td>6</td>\n",
       "      <td>4179</td>\n",
       "      <td>89.270217</td>\n",
       "      <td>5.981503</td>\n",
       "      <td>action adventure fantasy obsession marvel comi...</td>\n",
       "      <td>[0.016830236873404097, 0.021520797294458414, 0...</td>\n",
       "    </tr>\n",
       "    <tr>\n",
       "      <th>46</th>\n",
       "      <td>46</td>\n",
       "      <td>127585</td>\n",
       "      <td>X-Men: Days of Future Past</td>\n",
       "      <td>action adventur fantasi sciencefict the ultim ...</td>\n",
       "      <td>7</td>\n",
       "      <td>6032</td>\n",
       "      <td>118.078691</td>\n",
       "      <td>6.949320</td>\n",
       "      <td>action adventure fantasy sciencefiction 1970s ...</td>\n",
       "      <td>[0.026398193569356777, 0.029393035275868545, 0...</td>\n",
       "    </tr>\n",
       "    <tr>\n",
       "      <th>64</th>\n",
       "      <td>64</td>\n",
       "      <td>246655</td>\n",
       "      <td>X-Men: Apocalypse</td>\n",
       "      <td>sciencefict after the re-emerg of the world fi...</td>\n",
       "      <td>6</td>\n",
       "      <td>4721</td>\n",
       "      <td>139.272042</td>\n",
       "      <td>5.983526</td>\n",
       "      <td>sciencefiction mutant supernatural powers marv...</td>\n",
       "      <td>[0.014957249252212326, 0.02255108661733081, 0....</td>\n",
       "    </tr>\n",
       "    <tr>\n",
       "      <th>68</th>\n",
       "      <td>68</td>\n",
       "      <td>1726</td>\n",
       "      <td>Iron Man</td>\n",
       "      <td>action sciencefict adventur after be held capt...</td>\n",
       "      <td>7</td>\n",
       "      <td>8776</td>\n",
       "      <td>120.725053</td>\n",
       "      <td>6.964751</td>\n",
       "      <td>action sciencefiction adventure middle east ar...</td>\n",
       "      <td>[0.02683388447543442, 0.019657065925764532, 0....</td>\n",
       "    </tr>\n",
       "    <tr>\n",
       "      <th>79</th>\n",
       "      <td>79</td>\n",
       "      <td>10138</td>\n",
       "      <td>Iron Man 2</td>\n",
       "      <td>adventur action sciencefict with the world now...</td>\n",
       "      <td>6</td>\n",
       "      <td>6849</td>\n",
       "      <td>77.300194</td>\n",
       "      <td>5.988474</td>\n",
       "      <td>adventure action sciencefiction malibu marvel ...</td>\n",
       "      <td>[0.011713314501655754, 0.04265404297211964, 0....</td>\n",
       "    </tr>\n",
       "    <tr>\n",
       "      <th>85</th>\n",
       "      <td>85</td>\n",
       "      <td>100402</td>\n",
       "      <td>Captain America: The Winter Soldier</td>\n",
       "      <td>action adventur sciencefict after the cataclys...</td>\n",
       "      <td>7</td>\n",
       "      <td>5764</td>\n",
       "      <td>72.225265</td>\n",
       "      <td>6.947056</td>\n",
       "      <td>action adventure sciencefiction washington d.c...</td>\n",
       "      <td>[0.04137364795934541, 0.05942942944310127, 0.0...</td>\n",
       "    </tr>\n",
       "    <tr>\n",
       "      <th>94</th>\n",
       "      <td>94</td>\n",
       "      <td>118340</td>\n",
       "      <td>Guardians of the Galaxy</td>\n",
       "      <td>action sciencefict adventur light year from ea...</td>\n",
       "      <td>7</td>\n",
       "      <td>9742</td>\n",
       "      <td>481.098624</td>\n",
       "      <td>6.968164</td>\n",
       "      <td>action sciencefiction adventure marvel comic s...</td>\n",
       "      <td>[0.05532611805399176, 0.04449226223956673, 0.0...</td>\n",
       "    </tr>\n",
       "    <tr>\n",
       "      <th>101</th>\n",
       "      <td>101</td>\n",
       "      <td>49538</td>\n",
       "      <td>X-Men: First Class</td>\n",
       "      <td>action sciencefict adventur befor charl xavier...</td>\n",
       "      <td>7</td>\n",
       "      <td>5181</td>\n",
       "      <td>3.195174</td>\n",
       "      <td>6.941358</td>\n",
       "      <td>action sciencefiction adventure cia mutant min...</td>\n",
       "      <td>[0.017652859993437044, 0.018879584190472344, 0...</td>\n",
       "    </tr>\n",
       "    <tr>\n",
       "      <th>122</th>\n",
       "      <td>122</td>\n",
       "      <td>2080</td>\n",
       "      <td>X-Men Origins: Wolverine</td>\n",
       "      <td>adventur action thriller sciencefict after see...</td>\n",
       "      <td>6</td>\n",
       "      <td>4021</td>\n",
       "      <td>5.954334</td>\n",
       "      <td>5.980817</td>\n",
       "      <td>adventure action thriller sciencefiction corru...</td>\n",
       "      <td>[0.01708444725056525, 0.027317996672411173, 0....</td>\n",
       "    </tr>\n",
       "    <tr>\n",
       "      <th>126</th>\n",
       "      <td>126</td>\n",
       "      <td>76338</td>\n",
       "      <td>Thor: The Dark World</td>\n",
       "      <td>action adventur fantasi thor fight to restor o...</td>\n",
       "      <td>6</td>\n",
       "      <td>4755</td>\n",
       "      <td>99.499595</td>\n",
       "      <td>5.983638</td>\n",
       "      <td>action adventure fantasy marvel comic superher...</td>\n",
       "      <td>[0.027333570457069904, 0.02371217332003815, 0....</td>\n",
       "    </tr>\n",
       "    <tr>\n",
       "      <th>129</th>\n",
       "      <td>129</td>\n",
       "      <td>10195</td>\n",
       "      <td>Thor</td>\n",
       "      <td>adventur fantasi action against his father odi...</td>\n",
       "      <td>6</td>\n",
       "      <td>6525</td>\n",
       "      <td>86.493424</td>\n",
       "      <td>5.987922</td>\n",
       "      <td>adventure fantasy action new mexico banishment...</td>\n",
       "      <td>[0.02137861317543773, 0.04227853957953055, 0.0...</td>\n",
       "    </tr>\n",
       "    <tr>\n",
       "      <th>159</th>\n",
       "      <td>159</td>\n",
       "      <td>557</td>\n",
       "      <td>Spider-Man</td>\n",
       "      <td>fantasi action after be bitten by a genet alte...</td>\n",
       "      <td>6</td>\n",
       "      <td>5265</td>\n",
       "      <td>82.502566</td>\n",
       "      <td>5.985155</td>\n",
       "      <td>fantasy action loss of lover spider thanksgivi...</td>\n",
       "      <td>[0.007992881633128886, 0.015439022894197553, 0...</td>\n",
       "    </tr>\n",
       "    <tr>\n",
       "      <th>165</th>\n",
       "      <td>165</td>\n",
       "      <td>1927</td>\n",
       "      <td>Hulk</td>\n",
       "      <td>drama action sciencefict bruce banner, a genet...</td>\n",
       "      <td>5</td>\n",
       "      <td>1533</td>\n",
       "      <td>34.981698</td>\n",
       "      <td>5.087246</td>\n",
       "      <td>drama action sciencefiction california san fra...</td>\n",
       "      <td>[0.006418280140214023, 0.002633001892363222, 0...</td>\n",
       "    </tr>\n",
       "    <tr>\n",
       "      <th>169</th>\n",
       "      <td>169</td>\n",
       "      <td>1771</td>\n",
       "      <td>Captain America: The First Avenger</td>\n",
       "      <td>action adventur sciencefict predomin set dure ...</td>\n",
       "      <td>6</td>\n",
       "      <td>7047</td>\n",
       "      <td>74.506246</td>\n",
       "      <td>5.988787</td>\n",
       "      <td>action adventure sciencefiction new york usa w...</td>\n",
       "      <td>[0.02986145024644992, 0.048279830520317875, 0....</td>\n",
       "    </tr>\n",
       "    <tr>\n",
       "      <th>174</th>\n",
       "      <td>174</td>\n",
       "      <td>1724</td>\n",
       "      <td>The Incredible Hulk</td>\n",
       "      <td>sciencefict action adventur scientist bruce ba...</td>\n",
       "      <td>6</td>\n",
       "      <td>3021</td>\n",
       "      <td>62.898336</td>\n",
       "      <td>5.974927</td>\n",
       "      <td>sciencefiction action adventure new york rio d...</td>\n",
       "      <td>[0.0328913763126676, 0.023359358646569475, 0.0...</td>\n",
       "    </tr>\n",
       "    <tr>\n",
       "      <th>182</th>\n",
       "      <td>182</td>\n",
       "      <td>102899</td>\n",
       "      <td>Ant-Man</td>\n",
       "      <td>sciencefict action adventur arm with the aston...</td>\n",
       "      <td>7</td>\n",
       "      <td>5880</td>\n",
       "      <td>120.093610</td>\n",
       "      <td>6.948060</td>\n",
       "      <td>sciencefiction action adventure marvel comic s...</td>\n",
       "      <td>[0.036220745754154446, 0.021585128894859536, 0...</td>\n",
       "    </tr>\n",
       "    <tr>\n",
       "      <th>203</th>\n",
       "      <td>203</td>\n",
       "      <td>36658</td>\n",
       "      <td>X2</td>\n",
       "      <td>adventur action sciencefict thriller professor...</td>\n",
       "      <td>6</td>\n",
       "      <td>3506</td>\n",
       "      <td>2.871739</td>\n",
       "      <td>5.978177</td>\n",
       "      <td>adventure action sciencefiction thriller mutan...</td>\n",
       "      <td>[0.00932981994465372, 0.014799155861966899, 0....</td>\n",
       "    </tr>\n",
       "    <tr>\n",
       "      <th>215</th>\n",
       "      <td>215</td>\n",
       "      <td>1979</td>\n",
       "      <td>Fantastic 4: Rise of the Silver Surfer</td>\n",
       "      <td>adventur fantasi action thriller the fantast f...</td>\n",
       "      <td>5</td>\n",
       "      <td>2589</td>\n",
       "      <td>60.810723</td>\n",
       "      <td>5.054633</td>\n",
       "      <td>adventure fantasy action thriller fire helicop...</td>\n",
       "      <td>[0.009426398754502796, 0.022604170161498627, 0...</td>\n",
       "    </tr>\n",
       "    <tr>\n",
       "      <th>232</th>\n",
       "      <td>232</td>\n",
       "      <td>76170</td>\n",
       "      <td>The Wolverine</td>\n",
       "      <td>action sciencefict adventur fantasi wolverin f...</td>\n",
       "      <td>6</td>\n",
       "      <td>4053</td>\n",
       "      <td>15.953444</td>\n",
       "      <td>5.980960</td>\n",
       "      <td>action sciencefiction adventure fantasy japan ...</td>\n",
       "      <td>[0.01710156828281291, 0.022258717543275967, 0....</td>\n",
       "    </tr>\n",
       "    <tr>\n",
       "      <th>242</th>\n",
       "      <td>242</td>\n",
       "      <td>166424</td>\n",
       "      <td>Fantastic Four</td>\n",
       "      <td>action adventur sciencefict four young outsid ...</td>\n",
       "      <td>4</td>\n",
       "      <td>2278</td>\n",
       "      <td>38.126095</td>\n",
       "      <td>4.155266</td>\n",
       "      <td>action adventure sciencefiction teleportation ...</td>\n",
       "      <td>[0.010210847532052158, 0.0200314035535589, 0.0...</td>\n",
       "    </tr>\n",
       "    <tr>\n",
       "      <th>511</th>\n",
       "      <td>511</td>\n",
       "      <td>36657</td>\n",
       "      <td>X-Men</td>\n",
       "      <td>adventur action sciencefict two mutants, rogu ...</td>\n",
       "      <td>6</td>\n",
       "      <td>4097</td>\n",
       "      <td>4.668910</td>\n",
       "      <td>5.981153</td>\n",
       "      <td>adventure action sciencefiction mutant marvel ...</td>\n",
       "      <td>[0.012789265282810085, 0.020286600534966004, 0...</td>\n",
       "    </tr>\n",
       "    <tr>\n",
       "      <th>788</th>\n",
       "      <td>788</td>\n",
       "      <td>293660</td>\n",
       "      <td>Deadpool</td>\n",
       "      <td>action adventur comedi deadpool tell the origi...</td>\n",
       "      <td>7</td>\n",
       "      <td>10995</td>\n",
       "      <td>514.569956</td>\n",
       "      <td>6.971716</td>\n",
       "      <td>action adventure comedy anti hero mercenary ma...</td>\n",
       "      <td>[0.004671642421713816, 0.02580203273532492, 0....</td>\n",
       "    </tr>\n",
       "    <tr>\n",
       "      <th>805</th>\n",
       "      <td>805</td>\n",
       "      <td>71676</td>\n",
       "      <td>Ghost Rider: Spirit of Vengeance</td>\n",
       "      <td>action fantasi thriller when the devil resurfa...</td>\n",
       "      <td>4</td>\n",
       "      <td>1135</td>\n",
       "      <td>48.622278</td>\n",
       "      <td>4.284710</td>\n",
       "      <td>action fantasy thriller monk eastern europe sk...</td>\n",
       "      <td>[0.011774721064119137, 0.027928075350936506, 0...</td>\n",
       "    </tr>\n",
       "    <tr>\n",
       "      <th>1492</th>\n",
       "      <td>1492</td>\n",
       "      <td>7220</td>\n",
       "      <td>The Punisher</td>\n",
       "      <td>action crime drama when undercov fbi agent fra...</td>\n",
       "      <td>6</td>\n",
       "      <td>766</td>\n",
       "      <td>35.099611</td>\n",
       "      <td>5.918501</td>\n",
       "      <td>action crime drama chain submachine gun underc...</td>\n",
       "      <td>[0.008134139375834036, 0.003304334618100317, 0...</td>\n",
       "    </tr>\n",
       "    <tr>\n",
       "      <th>1746</th>\n",
       "      <td>1746</td>\n",
       "      <td>59859</td>\n",
       "      <td>Kick-Ass 2</td>\n",
       "      <td>action adventur crime after kick-ass insan bra...</td>\n",
       "      <td>6</td>\n",
       "      <td>2224</td>\n",
       "      <td>40.286350</td>\n",
       "      <td>5.966804</td>\n",
       "      <td>action adventure crime crime fighter secret id...</td>\n",
       "      <td>[0.005252286447367367, 0.018187375086613968, 0...</td>\n",
       "    </tr>\n",
       "    <tr>\n",
       "      <th>2396</th>\n",
       "      <td>2396</td>\n",
       "      <td>9626</td>\n",
       "      <td>Red Sonja</td>\n",
       "      <td>adventur fantasi action the tyrant gedren seek...</td>\n",
       "      <td>5</td>\n",
       "      <td>206</td>\n",
       "      <td>12.752463</td>\n",
       "      <td>5.349181</td>\n",
       "      <td>adventure fantasy action monster swordplay que...</td>\n",
       "      <td>[0.01424075753164776, 0.019978386455087496, 0....</td>\n",
       "    </tr>\n",
       "    <tr>\n",
       "      <th>4762</th>\n",
       "      <td>4762</td>\n",
       "      <td>250902</td>\n",
       "      <td>The Image Revolution</td>\n",
       "      <td>documentari twenti year ago, seven superstar a...</td>\n",
       "      <td>5</td>\n",
       "      <td>3</td>\n",
       "      <td>0.545620</td>\n",
       "      <td>5.645765</td>\n",
       "      <td>documentary comic book biography comic book ar...</td>\n",
       "      <td>[0.0, 0.005558638514022276, 0.0, 0.01335371164...</td>\n",
       "    </tr>\n",
       "  </tbody>\n",
       "</table>\n",
       "</div>"
      ],
      "text/plain": [
       "      temp_index      id                                   title  \\\n",
       "5              5     559                            Spider-Man 3   \n",
       "7              7   99861                 Avengers: Age of Ultron   \n",
       "16            16   24428                            The Avengers   \n",
       "20            20    1930                  The Amazing Spider-Man   \n",
       "26            26  271110              Captain America: Civil War   \n",
       "30            30     558                            Spider-Man 2   \n",
       "31            31   68721                              Iron Man 3   \n",
       "33            33   36668                   X-Men: The Last Stand   \n",
       "38            38  102382                The Amazing Spider-Man 2   \n",
       "46            46  127585              X-Men: Days of Future Past   \n",
       "64            64  246655                       X-Men: Apocalypse   \n",
       "68            68    1726                                Iron Man   \n",
       "79            79   10138                              Iron Man 2   \n",
       "85            85  100402     Captain America: The Winter Soldier   \n",
       "94            94  118340                 Guardians of the Galaxy   \n",
       "101          101   49538                      X-Men: First Class   \n",
       "122          122    2080                X-Men Origins: Wolverine   \n",
       "126          126   76338                    Thor: The Dark World   \n",
       "129          129   10195                                    Thor   \n",
       "159          159     557                              Spider-Man   \n",
       "165          165    1927                                    Hulk   \n",
       "169          169    1771      Captain America: The First Avenger   \n",
       "174          174    1724                     The Incredible Hulk   \n",
       "182          182  102899                                 Ant-Man   \n",
       "203          203   36658                                      X2   \n",
       "215          215    1979  Fantastic 4: Rise of the Silver Surfer   \n",
       "232          232   76170                           The Wolverine   \n",
       "242          242  166424                          Fantastic Four   \n",
       "511          511   36657                                   X-Men   \n",
       "788          788  293660                                Deadpool   \n",
       "805          805   71676        Ghost Rider: Spirit of Vengeance   \n",
       "1492        1492    7220                            The Punisher   \n",
       "1746        1746   59859                              Kick-Ass 2   \n",
       "2396        2396    9626                               Red Sonja   \n",
       "4762        4762  250902                    The Image Revolution   \n",
       "\n",
       "                                                   tags  vote_average  \\\n",
       "5     fantasi action adventur the seem invinc spider...             5   \n",
       "7     action adventur sciencefict when toni stark tr...             7   \n",
       "16    sciencefict action adventur when an unexpect e...             7   \n",
       "20    action adventur fantasi peter parker is an out...             6   \n",
       "26    adventur action sciencefict follow the event o...             7   \n",
       "30    action adventur fantasi peter parker is go thr...             6   \n",
       "31    action adventur sciencefict when toni stark wo...             6   \n",
       "33    adventur action sciencefict thriller when a cu...             6   \n",
       "38    action adventur fantasi for peter parker, life...             6   \n",
       "46    action adventur fantasi sciencefict the ultim ...             7   \n",
       "64    sciencefict after the re-emerg of the world fi...             6   \n",
       "68    action sciencefict adventur after be held capt...             7   \n",
       "79    adventur action sciencefict with the world now...             6   \n",
       "85    action adventur sciencefict after the cataclys...             7   \n",
       "94    action sciencefict adventur light year from ea...             7   \n",
       "101   action sciencefict adventur befor charl xavier...             7   \n",
       "122   adventur action thriller sciencefict after see...             6   \n",
       "126   action adventur fantasi thor fight to restor o...             6   \n",
       "129   adventur fantasi action against his father odi...             6   \n",
       "159   fantasi action after be bitten by a genet alte...             6   \n",
       "165   drama action sciencefict bruce banner, a genet...             5   \n",
       "169   action adventur sciencefict predomin set dure ...             6   \n",
       "174   sciencefict action adventur scientist bruce ba...             6   \n",
       "182   sciencefict action adventur arm with the aston...             7   \n",
       "203   adventur action sciencefict thriller professor...             6   \n",
       "215   adventur fantasi action thriller the fantast f...             5   \n",
       "232   action sciencefict adventur fantasi wolverin f...             6   \n",
       "242   action adventur sciencefict four young outsid ...             4   \n",
       "511   adventur action sciencefict two mutants, rogu ...             6   \n",
       "788   action adventur comedi deadpool tell the origi...             7   \n",
       "805   action fantasi thriller when the devil resurfa...             4   \n",
       "1492  action crime drama when undercov fbi agent fra...             6   \n",
       "1746  action adventur crime after kick-ass insan bra...             6   \n",
       "2396  adventur fantasi action the tyrant gedren seek...             5   \n",
       "4762  documentari twenti year ago, seven superstar a...             5   \n",
       "\n",
       "      vote_count  popularity        wr  \\\n",
       "5           3576  115.699814  5.040487   \n",
       "7           6767  134.279229  6.954639   \n",
       "16         11776  144.448633  6.973555   \n",
       "20          6586   89.866276  5.988030   \n",
       "26          7241  198.372395  6.957515   \n",
       "30          4321   35.149586  5.982080   \n",
       "31          8806   77.682080  5.990969   \n",
       "33          3525    3.857526  5.978287   \n",
       "38          4179   89.270217  5.981503   \n",
       "46          6032  118.078691  6.949320   \n",
       "64          4721  139.272042  5.983526   \n",
       "68          8776  120.725053  6.964751   \n",
       "79          6849   77.300194  5.988474   \n",
       "85          5764   72.225265  6.947056   \n",
       "94          9742  481.098624  6.968164   \n",
       "101         5181    3.195174  6.941358   \n",
       "122         4021    5.954334  5.980817   \n",
       "126         4755   99.499595  5.983638   \n",
       "129         6525   86.493424  5.987922   \n",
       "159         5265   82.502566  5.985155   \n",
       "165         1533   34.981698  5.087246   \n",
       "169         7047   74.506246  5.988787   \n",
       "174         3021   62.898336  5.974927   \n",
       "182         5880  120.093610  6.948060   \n",
       "203         3506    2.871739  5.978177   \n",
       "215         2589   60.810723  5.054633   \n",
       "232         4053   15.953444  5.980960   \n",
       "242         2278   38.126095  4.155266   \n",
       "511         4097    4.668910  5.981153   \n",
       "788        10995  514.569956  6.971716   \n",
       "805         1135   48.622278  4.284710   \n",
       "1492         766   35.099611  5.918501   \n",
       "1746        2224   40.286350  5.966804   \n",
       "2396         206   12.752463  5.349181   \n",
       "4762           3    0.545620  5.645765   \n",
       "\n",
       "                                            description  \\\n",
       "5     fantasy action adventure dual identity amnesia...   \n",
       "7     action adventure sciencefiction marvel comic s...   \n",
       "16    sciencefiction action adventure new york shiel...   \n",
       "20    action adventure fantasy loss of father vigila...   \n",
       "26    adventure action sciencefiction civil war war ...   \n",
       "30    action adventure fantasy dual identity love of...   \n",
       "31    action adventure sciencefiction terrorist war ...   \n",
       "33    adventure action sciencefiction thriller mutan...   \n",
       "38    action adventure fantasy obsession marvel comi...   \n",
       "46    action adventure fantasy sciencefiction 1970s ...   \n",
       "64    sciencefiction mutant supernatural powers marv...   \n",
       "68    action sciencefiction adventure middle east ar...   \n",
       "79    adventure action sciencefiction malibu marvel ...   \n",
       "85    action adventure sciencefiction washington d.c...   \n",
       "94    action sciencefiction adventure marvel comic s...   \n",
       "101   action sciencefiction adventure cia mutant min...   \n",
       "122   adventure action thriller sciencefiction corru...   \n",
       "126   action adventure fantasy marvel comic superher...   \n",
       "129   adventure fantasy action new mexico banishment...   \n",
       "159   fantasy action loss of lover spider thanksgivi...   \n",
       "165   drama action sciencefiction california san fra...   \n",
       "169   action adventure sciencefiction new york usa w...   \n",
       "174   sciencefiction action adventure new york rio d...   \n",
       "182   sciencefiction action adventure marvel comic s...   \n",
       "203   adventure action sciencefiction thriller mutan...   \n",
       "215   adventure fantasy action thriller fire helicop...   \n",
       "232   action sciencefiction adventure fantasy japan ...   \n",
       "242   action adventure sciencefiction teleportation ...   \n",
       "511   adventure action sciencefiction mutant marvel ...   \n",
       "788   action adventure comedy anti hero mercenary ma...   \n",
       "805   action fantasy thriller monk eastern europe sk...   \n",
       "1492  action crime drama chain submachine gun underc...   \n",
       "1746  action adventure crime crime fighter secret id...   \n",
       "2396  adventure fantasy action monster swordplay que...   \n",
       "4762  documentary comic book biography comic book ar...   \n",
       "\n",
       "                                         similarity_col  \n",
       "5     [0.032689948612018196, 0.0420275429486921, 0.0...  \n",
       "7     [0.03920364303150096, 0.05101555754194145, 0.0...  \n",
       "16    [0.014976470731779067, 0.04644197820444866, 0....  \n",
       "20    [0.022202431870110385, 0.029860471669754692, 0...  \n",
       "26    [0.042341211754588444, 0.04105070920536811, 0....  \n",
       "30    [0.010497778944072002, 0.047271690396223934, 0...  \n",
       "31    [0.038495213400598416, 0.02302555559899858, 0....  \n",
       "33    [0.012003566064186545, 0.023331081086574054, 0...  \n",
       "38    [0.016830236873404097, 0.021520797294458414, 0...  \n",
       "46    [0.026398193569356777, 0.029393035275868545, 0...  \n",
       "64    [0.014957249252212326, 0.02255108661733081, 0....  \n",
       "68    [0.02683388447543442, 0.019657065925764532, 0....  \n",
       "79    [0.011713314501655754, 0.04265404297211964, 0....  \n",
       "85    [0.04137364795934541, 0.05942942944310127, 0.0...  \n",
       "94    [0.05532611805399176, 0.04449226223956673, 0.0...  \n",
       "101   [0.017652859993437044, 0.018879584190472344, 0...  \n",
       "122   [0.01708444725056525, 0.027317996672411173, 0....  \n",
       "126   [0.027333570457069904, 0.02371217332003815, 0....  \n",
       "129   [0.02137861317543773, 0.04227853957953055, 0.0...  \n",
       "159   [0.007992881633128886, 0.015439022894197553, 0...  \n",
       "165   [0.006418280140214023, 0.002633001892363222, 0...  \n",
       "169   [0.02986145024644992, 0.048279830520317875, 0....  \n",
       "174   [0.0328913763126676, 0.023359358646569475, 0.0...  \n",
       "182   [0.036220745754154446, 0.021585128894859536, 0...  \n",
       "203   [0.00932981994465372, 0.014799155861966899, 0....  \n",
       "215   [0.009426398754502796, 0.022604170161498627, 0...  \n",
       "232   [0.01710156828281291, 0.022258717543275967, 0....  \n",
       "242   [0.010210847532052158, 0.0200314035535589, 0.0...  \n",
       "511   [0.012789265282810085, 0.020286600534966004, 0...  \n",
       "788   [0.004671642421713816, 0.02580203273532492, 0....  \n",
       "805   [0.011774721064119137, 0.027928075350936506, 0...  \n",
       "1492  [0.008134139375834036, 0.003304334618100317, 0...  \n",
       "1746  [0.005252286447367367, 0.018187375086613968, 0...  \n",
       "2396  [0.01424075753164776, 0.019978386455087496, 0....  \n",
       "4762  [0.0, 0.005558638514022276, 0.0, 0.01335371164...  "
      ]
     },
     "execution_count": 53,
     "metadata": {},
     "output_type": "execute_result"
    }
   ],
   "source": [
    "new_df[new_df['description'].str.contains(r\"\\b{}\\b\".format('marvel'))]"
   ]
  },
  {
   "cell_type": "code",
   "execution_count": 54,
   "id": "7a6d7c38",
   "metadata": {},
   "outputs": [
    {
     "data": {
      "text/html": [
       "<div>\n",
       "<style scoped>\n",
       "    .dataframe tbody tr th:only-of-type {\n",
       "        vertical-align: middle;\n",
       "    }\n",
       "\n",
       "    .dataframe tbody tr th {\n",
       "        vertical-align: top;\n",
       "    }\n",
       "\n",
       "    .dataframe thead th {\n",
       "        text-align: right;\n",
       "    }\n",
       "</style>\n",
       "<table border=\"1\" class=\"dataframe\">\n",
       "  <thead>\n",
       "    <tr style=\"text-align: right;\">\n",
       "      <th></th>\n",
       "      <th>temp_index</th>\n",
       "      <th>id</th>\n",
       "      <th>title</th>\n",
       "      <th>tags</th>\n",
       "      <th>vote_average</th>\n",
       "      <th>vote_count</th>\n",
       "      <th>popularity</th>\n",
       "      <th>wr</th>\n",
       "      <th>description</th>\n",
       "      <th>similarity_col</th>\n",
       "    </tr>\n",
       "  </thead>\n",
       "  <tbody>\n",
       "    <tr>\n",
       "      <th>1157</th>\n",
       "      <td>1157</td>\n",
       "      <td>216015</td>\n",
       "      <td>Fifty Shades of Grey</td>\n",
       "      <td>drama romanc thriller when colleg senior anast...</td>\n",
       "      <td>5</td>\n",
       "      <td>3254</td>\n",
       "      <td>98.755657</td>\n",
       "      <td>5.044223</td>\n",
       "      <td>drama romance thriller based on novel perversi...</td>\n",
       "      <td>[0.0027305322826506593, 0.003327214176053737, ...</td>\n",
       "    </tr>\n",
       "  </tbody>\n",
       "</table>\n",
       "</div>"
      ],
      "text/plain": [
       "      temp_index      id                 title  \\\n",
       "1157        1157  216015  Fifty Shades of Grey   \n",
       "\n",
       "                                                   tags  vote_average  \\\n",
       "1157  drama romanc thriller when colleg senior anast...             5   \n",
       "\n",
       "      vote_count  popularity        wr  \\\n",
       "1157        3254   98.755657  5.044223   \n",
       "\n",
       "                                            description  \\\n",
       "1157  drama romance thriller based on novel perversi...   \n",
       "\n",
       "                                         similarity_col  \n",
       "1157  [0.0027305322826506593, 0.003327214176053737, ...  "
      ]
     },
     "execution_count": 54,
     "metadata": {},
     "output_type": "execute_result"
    }
   ],
   "source": [
    "new_df[new_df['temp_index'] == 1157]"
   ]
  },
  {
   "cell_type": "code",
   "execution_count": 55,
   "id": "4871cdbd",
   "metadata": {},
   "outputs": [],
   "source": [
    "# popularMdf = new_df.sort_values('popularity', ascending=False)"
   ]
  },
  {
   "cell_type": "code",
   "execution_count": 56,
   "id": "525b92d8",
   "metadata": {
    "scrolled": true
   },
   "outputs": [],
   "source": [
    "# popularMdf.head(5)"
   ]
  },
  {
   "cell_type": "code",
   "execution_count": 57,
   "id": "642fff93",
   "metadata": {
    "scrolled": true
   },
   "outputs": [
    {
     "name": "stdout",
     "output_type": "stream",
     "text": [
      "1157\n"
     ]
    }
   ],
   "source": [
    "for i, j in new_df.iterrows():\n",
    "    if j['title'] == 'Fifty Shades of Grey':\n",
    "        print(j['temp_index'])"
   ]
  },
  {
   "cell_type": "code",
   "execution_count": 59,
   "id": "68cf6e13",
   "metadata": {},
   "outputs": [],
   "source": [
    "def predictMovie2(name):\n",
    "    try:\n",
    "        \n",
    "        new_entry = new_df[new_df['title']==name].index[0]\n",
    "        distance = similarity1[new_entry]\n",
    "#         return distance\n",
    "        movie_list = sorted(list(enumerate(distance)), reverse = True, key = lambda x : x[1])[0:20]\n",
    "#         return movie_list\n",
    "        for i in movie_list:\n",
    "            print(str(i[1]) +\" - \" + str(new_df.iloc[i[0]].temp_index) + \"-\" + new_df.iloc[i[0]].title)\n",
    "        \n",
    "    except IndexError as e:\n",
    "        name2 = name.lower()\n",
    "        movie_list = new_df[new_df['description'].str.contains(r\"\\b{}\\b\".format(name2))]\n",
    "        w_c = []\n",
    "        for index, rows in movie_list.iterrows():\n",
    "#             print(rows['description'])\n",
    "            w_c.append((index, rows['description'].count(name2), rows['title'], rows['popularity']))\n",
    "        w_c = sorted(w_c, reverse=True, key = lambda x : x[1])\n",
    "            \n",
    "#         print(w_c)\n",
    "        ml2 = []\n",
    "        if len(w_c) == 0:\n",
    "            print('type again')\n",
    "        elif len(w_c) > 6:\n",
    "            for i in range(0, 6):\n",
    "                ml2.append(w_c[i])\n",
    "        else:\n",
    "            ml2 = w_c\n",
    "#         print(ml2)\n",
    "        ml2p = sorted(ml2, reverse = True, key = lambda x : x[3])\n",
    "#         return ml2p\n",
    "        temp_mov_l = []\n",
    "        for i in ml2p:\n",
    "            movie_name = i[2]\n",
    "#             print(movie_name)\n",
    "            new_entry = new_df[new_df['title']==movie_name].index[0]\n",
    "            dist = similarity1[new_entry]\n",
    "#             print(dist)\n",
    "            movie_list1 = sorted(list(enumerate(dist)), reverse = True, key = lambda x : x[1])[0:6]\n",
    "#             print(movie_list1)\n",
    "            for i in movie_list1:\n",
    "                temp_mov_l.append((i[1],new_df.iloc[i[0]].temp_index,new_df.iloc[i[0]].title,new_df.iloc[i[0]].popularity))\n",
    "#         print(temp_mov_l)\n",
    "        temp_l = []\n",
    "        fin_mov_l = []\n",
    "        for i in temp_mov_l:\n",
    "            if i[1] not in temp_l:\n",
    "                temp_l.append(i[1])\n",
    "                fin_mov_l.append(i)\n",
    "            else:\n",
    "                continue\n",
    "        fin_mov_l = sorted(fin_mov_l, reverse=True, key = lambda x : x[0])[0:9]\n",
    "#         print(fin_mov_l)\n",
    "        for i in fin_mov_l:\n",
    "            print(str(i[1])+\"-\"+str(i[0])+\"-\"+ i[2])\n",
    "        \n",
    "    except:\n",
    "        print(\"Type Again\")\n",
    "    \n",
    "    \n",
    "    \n",
    "    \n",
    "    \n",
    "    \n",
    "    \n",
    "    \n",
    "    \n",
    "    \n",
    "    \n",
    "    \n",
    "    \n",
    "#         ret_m_l = []\n",
    "#         for i in ml2p:\n",
    "#             movie_name = i[2]\n",
    "#             new_entry = new_df[new_df['title']==movie_name].index[0]\n",
    "#             dist = similarity1[new_entry]\n",
    "# #             print(dist)\n",
    "#             movie_list1 = sorted(list(enumerate(dist)), reverse = True, key = lambda x : x[1])[0:6]\n",
    "# #             print(movie_list1)\n",
    "#             for i in movie_list1:\n",
    "# #                 ret_m_l.append(str(i[1]) +\" - \" + str(new_df.iloc[i[0]].temp_index) + \"-\" + new_df.iloc[i[0]].title)\n",
    "#                 ret_m_l.append((i[1],new_df.iloc[i[0]].temp_index,new_df.iloc[i[0]].title,new_df.iloc[i[0]].popularity))\n",
    "# #                 print(str(i[1]) +\" - \" + str(new_df.iloc[i[0]].temp_index) + \"-\" + new_df.iloc[i[0]].title)\n",
    "# #         print(len(ret_m_l))\n",
    "#         print(ret_m_l)\n",
    "# #         f_m_l = sorted(list(set(ret_m_l)), reverse=True, key = lambda x : x[3])\n",
    "        \n",
    "# #         for i in f_m_l:\n",
    "# #             print(str(i[1])+\"-\"+str(i[0])+\"-\"+ i[2])\n",
    "    \n",
    "    \n",
    "            \n",
    "            \n",
    "            \n",
    "            \n",
    "#         print(sorted(w_c, reverse=True, key = lambda x : x[1]))\n",
    "#         return movie_list\n",
    "        "
   ]
  },
  {
   "cell_type": "code",
   "execution_count": 66,
   "id": "6a603bb7",
   "metadata": {},
   "outputs": [],
   "source": [
    "#0.0788"
   ]
  },
  {
   "cell_type": "code",
   "execution_count": 69,
   "id": "4754ce9b",
   "metadata": {
    "scrolled": false
   },
   "outputs": [
    {
     "name": "stdout",
     "output_type": "stream",
     "text": [
      "0.9999999999999999 - 25-Titanic\n",
      "0.11847121034236179 - 2149-Ghost Ship\n",
      "0.09694709777199711 - 2293-I Can Do Bad All By Myself\n",
      "0.09080047406680264 - 3695-Dear Frankie\n",
      "0.09034899743292288 - 104-Poseidon\n",
      "0.08476379289612435 - 3501-The Greatest\n",
      "0.08338604840728774 - 3216-The Rose\n",
      "0.08132473974249226 - 17-Pirates of the Caribbean: On Stranger Tides\n",
      "0.08043494279876243 - 310-In the Heart of the Sea\n",
      "0.07937810129707813 - 775-Supernova\n",
      "0.07598749093918332 - 2135-The Black Hole\n",
      "0.0722878169729196 - 2906-Triangle\n",
      "0.07034994567713962 - 2302-The Bounty\n",
      "0.06960781971395671 - 57-WALL·E\n",
      "0.06927297987084903 - 4613-Pieces of April\n",
      "0.06896888370375284 - 770-Event Horizon\n",
      "0.06551305304851172 - 4291-Niagara\n",
      "0.06527337907639058 - 1-Pirates of the Caribbean: At World's End\n",
      "0.06493554802911117 - 3701-The Blue Lagoon\n",
      "0.06434473621401081 - 1565-The Notebook\n"
     ]
    }
   ],
   "source": [
    "predictMovie2(\"Titanic\")"
   ]
  },
  {
   "cell_type": "code",
   "execution_count": 396,
   "id": "4f528202",
   "metadata": {},
   "outputs": [
    {
     "data": {
      "text/plain": [
       "1157    [0.0027305322826506593, 0.003327214176053737, ...\n",
       "Name: similarity_col, dtype: object"
      ]
     },
     "execution_count": 396,
     "metadata": {},
     "output_type": "execute_result"
    }
   ],
   "source": [
    "new_df[new_df['title'] == \"Fifty Shades of Grey\"]['similarity_col']"
   ]
  },
  {
   "cell_type": "code",
   "execution_count": null,
   "id": "b4cc7863",
   "metadata": {},
   "outputs": [],
   "source": []
  },
  {
   "cell_type": "code",
   "execution_count": null,
   "id": "28a7df0e",
   "metadata": {},
   "outputs": [],
   "source": []
  },
  {
   "cell_type": "code",
   "execution_count": null,
   "id": "da1b9035",
   "metadata": {},
   "outputs": [],
   "source": []
  },
  {
   "cell_type": "code",
   "execution_count": null,
   "id": "b8c7ad39",
   "metadata": {},
   "outputs": [],
   "source": []
  },
  {
   "cell_type": "code",
   "execution_count": null,
   "id": "06f4a615",
   "metadata": {},
   "outputs": [],
   "source": []
  },
  {
   "cell_type": "code",
   "execution_count": null,
   "id": "3830f6d9",
   "metadata": {},
   "outputs": [],
   "source": []
  },
  {
   "cell_type": "code",
   "execution_count": null,
   "id": "0d73fa7d",
   "metadata": {},
   "outputs": [],
   "source": []
  },
  {
   "cell_type": "code",
   "execution_count": 364,
   "id": "c7ab9c99",
   "metadata": {},
   "outputs": [],
   "source": [
    "PopularMdf = movies.sort_values('popularity', ascending=False)"
   ]
  },
  {
   "cell_type": "code",
   "execution_count": null,
   "id": "e30ad998",
   "metadata": {},
   "outputs": [],
   "source": []
  },
  {
   "cell_type": "code",
   "execution_count": 365,
   "id": "3eafa7bf",
   "metadata": {
    "collapsed": true
   },
   "outputs": [
    {
     "data": {
      "text/html": [
       "<div>\n",
       "<style scoped>\n",
       "    .dataframe tbody tr th:only-of-type {\n",
       "        vertical-align: middle;\n",
       "    }\n",
       "\n",
       "    .dataframe tbody tr th {\n",
       "        vertical-align: top;\n",
       "    }\n",
       "\n",
       "    .dataframe thead th {\n",
       "        text-align: right;\n",
       "    }\n",
       "</style>\n",
       "<table border=\"1\" class=\"dataframe\">\n",
       "  <thead>\n",
       "    <tr style=\"text-align: right;\">\n",
       "      <th></th>\n",
       "      <th>genres</th>\n",
       "      <th>id</th>\n",
       "      <th>keywords</th>\n",
       "      <th>overview</th>\n",
       "      <th>popularity</th>\n",
       "      <th>tagline</th>\n",
       "      <th>title</th>\n",
       "      <th>vote_average</th>\n",
       "      <th>vote_count</th>\n",
       "      <th>cast</th>\n",
       "      <th>crew</th>\n",
       "      <th>wr</th>\n",
       "      <th>actor</th>\n",
       "      <th>character</th>\n",
       "      <th>sub_title</th>\n",
       "      <th>keywords_conv</th>\n",
       "      <th>tags</th>\n",
       "      <th>temp_index</th>\n",
       "    </tr>\n",
       "  </thead>\n",
       "  <tbody>\n",
       "    <tr>\n",
       "      <th>546</th>\n",
       "      <td>[Family, Animation, Adventure, Comedy]</td>\n",
       "      <td>211672</td>\n",
       "      <td>[assistant, aftercreditsstinger, duringcredits...</td>\n",
       "      <td>[Minions, Stuart,, Kevin, and, Bob, are, recru...</td>\n",
       "      <td>875.581305</td>\n",
       "      <td>[Before, Gru,, they, had, a, history, of, bad,...</td>\n",
       "      <td>Minions</td>\n",
       "      <td>6</td>\n",
       "      <td>4571</td>\n",
       "      <td>[{\"cast_id\": 22, \"character\": \"Scarlet Overkil...</td>\n",
       "      <td>[KyleBalda]</td>\n",
       "      <td>5.983012</td>\n",
       "      <td>[SandraBullock, JonHamm, MichaelKeaton]</td>\n",
       "      <td>[ScarletOverkill(voice), HerbOverkill(voice), ...</td>\n",
       "      <td>[Minions]</td>\n",
       "      <td>[assistant, aftercreditsstinger, duringcredits...</td>\n",
       "      <td>[Family, Animation, Adventure, Comedy, Minions...</td>\n",
       "      <td>546</td>\n",
       "    </tr>\n",
       "    <tr>\n",
       "      <th>95</th>\n",
       "      <td>[Adventure, Drama, ScienceFiction]</td>\n",
       "      <td>157336</td>\n",
       "      <td>[saving the world, artificial intelligence, fa...</td>\n",
       "      <td>[Interstellar, chronicles, the, adventures, of...</td>\n",
       "      <td>724.247784</td>\n",
       "      <td>[Mankind, was, born, on, Earth., It, was, neve...</td>\n",
       "      <td>Interstellar</td>\n",
       "      <td>8</td>\n",
       "      <td>10867</td>\n",
       "      <td>[{\"cast_id\": 9, \"character\": \"Joseph Cooper\", ...</td>\n",
       "      <td>[ChristopherNolan]</td>\n",
       "      <td>7.950134</td>\n",
       "      <td>[MatthewMcConaughey, JessicaChastain, AnneHath...</td>\n",
       "      <td>[JosephCooper, MurphCooper, Dr.AmeliaBrand]</td>\n",
       "      <td>[Interstellar]</td>\n",
       "      <td>[savingtheworld, artificialintelligence, fathe...</td>\n",
       "      <td>[Adventure, Drama, ScienceFiction, Interstella...</td>\n",
       "      <td>95</td>\n",
       "    </tr>\n",
       "    <tr>\n",
       "      <th>788</th>\n",
       "      <td>[Action, Adventure, Comedy]</td>\n",
       "      <td>293660</td>\n",
       "      <td>[anti hero, mercenary, marvel comic, superhero...</td>\n",
       "      <td>[Deadpool, tells, the, origin, story, of, form...</td>\n",
       "      <td>514.569956</td>\n",
       "      <td>[Witness, the, beginning, of, a, happy, ending]</td>\n",
       "      <td>Deadpool</td>\n",
       "      <td>7</td>\n",
       "      <td>10995</td>\n",
       "      <td>[{\"cast_id\": 99, \"character\": \"Wade Wilson / D...</td>\n",
       "      <td>[TimMiller]</td>\n",
       "      <td>6.971716</td>\n",
       "      <td>[RyanReynolds, MorenaBaccarin, EdSkrein]</td>\n",
       "      <td>[WadeWilson/Deadpool, VanessaCarlysle/Copycat,...</td>\n",
       "      <td>[Deadpool]</td>\n",
       "      <td>[antihero, mercenary, marvelcomic, superhero, ...</td>\n",
       "      <td>[Action, Adventure, Comedy, Deadpool, tells, t...</td>\n",
       "      <td>788</td>\n",
       "    </tr>\n",
       "    <tr>\n",
       "      <th>94</th>\n",
       "      <td>[Action, ScienceFiction, Adventure]</td>\n",
       "      <td>118340</td>\n",
       "      <td>[marvel comic, spaceship, space, outer space, ...</td>\n",
       "      <td>[Light, years, from, Earth,, 26, years, after,...</td>\n",
       "      <td>481.098624</td>\n",
       "      <td>[All, heroes, start, somewhere.]</td>\n",
       "      <td>Guardians of the Galaxy</td>\n",
       "      <td>7</td>\n",
       "      <td>9742</td>\n",
       "      <td>[{\"cast_id\": 1, \"character\": \"Peter Quill / St...</td>\n",
       "      <td>[JamesGunn]</td>\n",
       "      <td>6.968164</td>\n",
       "      <td>[ChrisPratt, ZoeSaldana, DaveBautista]</td>\n",
       "      <td>[PeterQuill/Star-Lord, Gamora, DraxtheDestroyer]</td>\n",
       "      <td>[Guardians, of, the, Galaxy]</td>\n",
       "      <td>[marvelcomic, spaceship, space, outerspace, or...</td>\n",
       "      <td>[Action, ScienceFiction, Adventure, Light, yea...</td>\n",
       "      <td>94</td>\n",
       "    </tr>\n",
       "  </tbody>\n",
       "</table>\n",
       "</div>"
      ],
      "text/plain": [
       "                                     genres      id  \\\n",
       "546  [Family, Animation, Adventure, Comedy]  211672   \n",
       "95       [Adventure, Drama, ScienceFiction]  157336   \n",
       "788             [Action, Adventure, Comedy]  293660   \n",
       "94      [Action, ScienceFiction, Adventure]  118340   \n",
       "\n",
       "                                              keywords  \\\n",
       "546  [assistant, aftercreditsstinger, duringcredits...   \n",
       "95   [saving the world, artificial intelligence, fa...   \n",
       "788  [anti hero, mercenary, marvel comic, superhero...   \n",
       "94   [marvel comic, spaceship, space, outer space, ...   \n",
       "\n",
       "                                              overview  popularity  \\\n",
       "546  [Minions, Stuart,, Kevin, and, Bob, are, recru...  875.581305   \n",
       "95   [Interstellar, chronicles, the, adventures, of...  724.247784   \n",
       "788  [Deadpool, tells, the, origin, story, of, form...  514.569956   \n",
       "94   [Light, years, from, Earth,, 26, years, after,...  481.098624   \n",
       "\n",
       "                                               tagline  \\\n",
       "546  [Before, Gru,, they, had, a, history, of, bad,...   \n",
       "95   [Mankind, was, born, on, Earth., It, was, neve...   \n",
       "788    [Witness, the, beginning, of, a, happy, ending]   \n",
       "94                    [All, heroes, start, somewhere.]   \n",
       "\n",
       "                       title  vote_average  vote_count  \\\n",
       "546                  Minions             6        4571   \n",
       "95              Interstellar             8       10867   \n",
       "788                 Deadpool             7       10995   \n",
       "94   Guardians of the Galaxy             7        9742   \n",
       "\n",
       "                                                  cast                crew  \\\n",
       "546  [{\"cast_id\": 22, \"character\": \"Scarlet Overkil...         [KyleBalda]   \n",
       "95   [{\"cast_id\": 9, \"character\": \"Joseph Cooper\", ...  [ChristopherNolan]   \n",
       "788  [{\"cast_id\": 99, \"character\": \"Wade Wilson / D...         [TimMiller]   \n",
       "94   [{\"cast_id\": 1, \"character\": \"Peter Quill / St...         [JamesGunn]   \n",
       "\n",
       "           wr                                              actor  \\\n",
       "546  5.983012            [SandraBullock, JonHamm, MichaelKeaton]   \n",
       "95   7.950134  [MatthewMcConaughey, JessicaChastain, AnneHath...   \n",
       "788  6.971716           [RyanReynolds, MorenaBaccarin, EdSkrein]   \n",
       "94   6.968164             [ChrisPratt, ZoeSaldana, DaveBautista]   \n",
       "\n",
       "                                             character  \\\n",
       "546  [ScarletOverkill(voice), HerbOverkill(voice), ...   \n",
       "95         [JosephCooper, MurphCooper, Dr.AmeliaBrand]   \n",
       "788  [WadeWilson/Deadpool, VanessaCarlysle/Copycat,...   \n",
       "94    [PeterQuill/Star-Lord, Gamora, DraxtheDestroyer]   \n",
       "\n",
       "                        sub_title  \\\n",
       "546                     [Minions]   \n",
       "95                 [Interstellar]   \n",
       "788                    [Deadpool]   \n",
       "94   [Guardians, of, the, Galaxy]   \n",
       "\n",
       "                                         keywords_conv  \\\n",
       "546  [assistant, aftercreditsstinger, duringcredits...   \n",
       "95   [savingtheworld, artificialintelligence, fathe...   \n",
       "788  [antihero, mercenary, marvelcomic, superhero, ...   \n",
       "94   [marvelcomic, spaceship, space, outerspace, or...   \n",
       "\n",
       "                                                  tags  temp_index  \n",
       "546  [Family, Animation, Adventure, Comedy, Minions...         546  \n",
       "95   [Adventure, Drama, ScienceFiction, Interstella...          95  \n",
       "788  [Action, Adventure, Comedy, Deadpool, tells, t...         788  \n",
       "94   [Action, ScienceFiction, Adventure, Light, yea...          94  "
      ]
     },
     "execution_count": 365,
     "metadata": {},
     "output_type": "execute_result"
    }
   ],
   "source": [
    "PopularMdf.head(4)"
   ]
  },
  {
   "cell_type": "code",
   "execution_count": 366,
   "id": "1edf5a90",
   "metadata": {},
   "outputs": [],
   "source": [
    "PopularMdf['description'] = PopularMdf['genres'] + PopularMdf['keywords'] + PopularMdf['overview'] + PopularMdf['tagline'] + PopularMdf['crew']+PopularMdf['actor']+PopularMdf['character']+PopularMdf['sub_title']"
   ]
  },
  {
   "cell_type": "code",
   "execution_count": 367,
   "id": "eb04e8a7",
   "metadata": {},
   "outputs": [
    {
     "data": {
      "text/html": [
       "<div>\n",
       "<style scoped>\n",
       "    .dataframe tbody tr th:only-of-type {\n",
       "        vertical-align: middle;\n",
       "    }\n",
       "\n",
       "    .dataframe tbody tr th {\n",
       "        vertical-align: top;\n",
       "    }\n",
       "\n",
       "    .dataframe thead th {\n",
       "        text-align: right;\n",
       "    }\n",
       "</style>\n",
       "<table border=\"1\" class=\"dataframe\">\n",
       "  <thead>\n",
       "    <tr style=\"text-align: right;\">\n",
       "      <th></th>\n",
       "      <th>genres</th>\n",
       "      <th>id</th>\n",
       "      <th>keywords</th>\n",
       "      <th>overview</th>\n",
       "      <th>popularity</th>\n",
       "      <th>tagline</th>\n",
       "      <th>title</th>\n",
       "      <th>vote_average</th>\n",
       "      <th>vote_count</th>\n",
       "      <th>cast</th>\n",
       "      <th>crew</th>\n",
       "      <th>wr</th>\n",
       "      <th>actor</th>\n",
       "      <th>character</th>\n",
       "      <th>sub_title</th>\n",
       "      <th>keywords_conv</th>\n",
       "      <th>tags</th>\n",
       "      <th>temp_index</th>\n",
       "      <th>description</th>\n",
       "    </tr>\n",
       "  </thead>\n",
       "  <tbody>\n",
       "    <tr>\n",
       "      <th>546</th>\n",
       "      <td>[Family, Animation, Adventure, Comedy]</td>\n",
       "      <td>211672</td>\n",
       "      <td>[assistant, aftercreditsstinger, duringcredits...</td>\n",
       "      <td>[Minions, Stuart,, Kevin, and, Bob, are, recru...</td>\n",
       "      <td>875.581305</td>\n",
       "      <td>[Before, Gru,, they, had, a, history, of, bad,...</td>\n",
       "      <td>Minions</td>\n",
       "      <td>6</td>\n",
       "      <td>4571</td>\n",
       "      <td>[{\"cast_id\": 22, \"character\": \"Scarlet Overkil...</td>\n",
       "      <td>[KyleBalda]</td>\n",
       "      <td>5.983012</td>\n",
       "      <td>[SandraBullock, JonHamm, MichaelKeaton]</td>\n",
       "      <td>[ScarletOverkill(voice), HerbOverkill(voice), ...</td>\n",
       "      <td>[Minions]</td>\n",
       "      <td>[assistant, aftercreditsstinger, duringcredits...</td>\n",
       "      <td>[Family, Animation, Adventure, Comedy, Minions...</td>\n",
       "      <td>546</td>\n",
       "      <td>[Family, Animation, Adventure, Comedy, assista...</td>\n",
       "    </tr>\n",
       "    <tr>\n",
       "      <th>95</th>\n",
       "      <td>[Adventure, Drama, ScienceFiction]</td>\n",
       "      <td>157336</td>\n",
       "      <td>[saving the world, artificial intelligence, fa...</td>\n",
       "      <td>[Interstellar, chronicles, the, adventures, of...</td>\n",
       "      <td>724.247784</td>\n",
       "      <td>[Mankind, was, born, on, Earth., It, was, neve...</td>\n",
       "      <td>Interstellar</td>\n",
       "      <td>8</td>\n",
       "      <td>10867</td>\n",
       "      <td>[{\"cast_id\": 9, \"character\": \"Joseph Cooper\", ...</td>\n",
       "      <td>[ChristopherNolan]</td>\n",
       "      <td>7.950134</td>\n",
       "      <td>[MatthewMcConaughey, JessicaChastain, AnneHath...</td>\n",
       "      <td>[JosephCooper, MurphCooper, Dr.AmeliaBrand]</td>\n",
       "      <td>[Interstellar]</td>\n",
       "      <td>[savingtheworld, artificialintelligence, fathe...</td>\n",
       "      <td>[Adventure, Drama, ScienceFiction, Interstella...</td>\n",
       "      <td>95</td>\n",
       "      <td>[Adventure, Drama, ScienceFiction, saving the ...</td>\n",
       "    </tr>\n",
       "  </tbody>\n",
       "</table>\n",
       "</div>"
      ],
      "text/plain": [
       "                                     genres      id  \\\n",
       "546  [Family, Animation, Adventure, Comedy]  211672   \n",
       "95       [Adventure, Drama, ScienceFiction]  157336   \n",
       "\n",
       "                                              keywords  \\\n",
       "546  [assistant, aftercreditsstinger, duringcredits...   \n",
       "95   [saving the world, artificial intelligence, fa...   \n",
       "\n",
       "                                              overview  popularity  \\\n",
       "546  [Minions, Stuart,, Kevin, and, Bob, are, recru...  875.581305   \n",
       "95   [Interstellar, chronicles, the, adventures, of...  724.247784   \n",
       "\n",
       "                                               tagline         title  \\\n",
       "546  [Before, Gru,, they, had, a, history, of, bad,...       Minions   \n",
       "95   [Mankind, was, born, on, Earth., It, was, neve...  Interstellar   \n",
       "\n",
       "     vote_average  vote_count  \\\n",
       "546             6        4571   \n",
       "95              8       10867   \n",
       "\n",
       "                                                  cast                crew  \\\n",
       "546  [{\"cast_id\": 22, \"character\": \"Scarlet Overkil...         [KyleBalda]   \n",
       "95   [{\"cast_id\": 9, \"character\": \"Joseph Cooper\", ...  [ChristopherNolan]   \n",
       "\n",
       "           wr                                              actor  \\\n",
       "546  5.983012            [SandraBullock, JonHamm, MichaelKeaton]   \n",
       "95   7.950134  [MatthewMcConaughey, JessicaChastain, AnneHath...   \n",
       "\n",
       "                                             character       sub_title  \\\n",
       "546  [ScarletOverkill(voice), HerbOverkill(voice), ...       [Minions]   \n",
       "95         [JosephCooper, MurphCooper, Dr.AmeliaBrand]  [Interstellar]   \n",
       "\n",
       "                                         keywords_conv  \\\n",
       "546  [assistant, aftercreditsstinger, duringcredits...   \n",
       "95   [savingtheworld, artificialintelligence, fathe...   \n",
       "\n",
       "                                                  tags  temp_index  \\\n",
       "546  [Family, Animation, Adventure, Comedy, Minions...         546   \n",
       "95   [Adventure, Drama, ScienceFiction, Interstella...          95   \n",
       "\n",
       "                                           description  \n",
       "546  [Family, Animation, Adventure, Comedy, assista...  \n",
       "95   [Adventure, Drama, ScienceFiction, saving the ...  "
      ]
     },
     "execution_count": 367,
     "metadata": {},
     "output_type": "execute_result"
    }
   ],
   "source": [
    "PopularMdf.head(2)"
   ]
  },
  {
   "cell_type": "code",
   "execution_count": 368,
   "id": "4bf4e7a1",
   "metadata": {},
   "outputs": [],
   "source": [
    "PopularMdf = PopularMdf[['id','temp_index', 'title','description','wr','popularity','vote_count']]"
   ]
  },
  {
   "cell_type": "code",
   "execution_count": 369,
   "id": "41971e60",
   "metadata": {},
   "outputs": [
    {
     "data": {
      "text/html": [
       "<div>\n",
       "<style scoped>\n",
       "    .dataframe tbody tr th:only-of-type {\n",
       "        vertical-align: middle;\n",
       "    }\n",
       "\n",
       "    .dataframe tbody tr th {\n",
       "        vertical-align: top;\n",
       "    }\n",
       "\n",
       "    .dataframe thead th {\n",
       "        text-align: right;\n",
       "    }\n",
       "</style>\n",
       "<table border=\"1\" class=\"dataframe\">\n",
       "  <thead>\n",
       "    <tr style=\"text-align: right;\">\n",
       "      <th></th>\n",
       "      <th>id</th>\n",
       "      <th>temp_index</th>\n",
       "      <th>title</th>\n",
       "      <th>description</th>\n",
       "      <th>wr</th>\n",
       "      <th>popularity</th>\n",
       "      <th>vote_count</th>\n",
       "    </tr>\n",
       "  </thead>\n",
       "  <tbody>\n",
       "    <tr>\n",
       "      <th>546</th>\n",
       "      <td>211672</td>\n",
       "      <td>546</td>\n",
       "      <td>Minions</td>\n",
       "      <td>[Family, Animation, Adventure, Comedy, assista...</td>\n",
       "      <td>5.983012</td>\n",
       "      <td>875.581305</td>\n",
       "      <td>4571</td>\n",
       "    </tr>\n",
       "    <tr>\n",
       "      <th>95</th>\n",
       "      <td>157336</td>\n",
       "      <td>95</td>\n",
       "      <td>Interstellar</td>\n",
       "      <td>[Adventure, Drama, ScienceFiction, saving the ...</td>\n",
       "      <td>7.950134</td>\n",
       "      <td>724.247784</td>\n",
       "      <td>10867</td>\n",
       "    </tr>\n",
       "    <tr>\n",
       "      <th>788</th>\n",
       "      <td>293660</td>\n",
       "      <td>788</td>\n",
       "      <td>Deadpool</td>\n",
       "      <td>[Action, Adventure, Comedy, anti hero, mercena...</td>\n",
       "      <td>6.971716</td>\n",
       "      <td>514.569956</td>\n",
       "      <td>10995</td>\n",
       "    </tr>\n",
       "  </tbody>\n",
       "</table>\n",
       "</div>"
      ],
      "text/plain": [
       "         id  temp_index         title  \\\n",
       "546  211672         546       Minions   \n",
       "95   157336          95  Interstellar   \n",
       "788  293660         788      Deadpool   \n",
       "\n",
       "                                           description        wr  popularity  \\\n",
       "546  [Family, Animation, Adventure, Comedy, assista...  5.983012  875.581305   \n",
       "95   [Adventure, Drama, ScienceFiction, saving the ...  7.950134  724.247784   \n",
       "788  [Action, Adventure, Comedy, anti hero, mercena...  6.971716  514.569956   \n",
       "\n",
       "     vote_count  \n",
       "546        4571  \n",
       "95        10867  \n",
       "788       10995  "
      ]
     },
     "execution_count": 369,
     "metadata": {},
     "output_type": "execute_result"
    }
   ],
   "source": [
    "PopularMdf.head(3)"
   ]
  },
  {
   "cell_type": "code",
   "execution_count": 302,
   "id": "b6b01512",
   "metadata": {},
   "outputs": [],
   "source": [
    "# genres\n",
    "# PopularMdf['description'] = PopularMdf['description'].str.strip('[]').str.replace(' ','').str.replace(\"'\",'')\n",
    "# PopularMdf['description'] = PopularMdf['description'].str.strip('[]').str.replace(' ','').str.replace(\"'\",'').str.replace('\"','')"
   ]
  },
  {
   "cell_type": "code",
   "execution_count": 370,
   "id": "9eab2d18",
   "metadata": {},
   "outputs": [],
   "source": [
    "PopularMdf['description']=PopularMdf['description'].apply(lambda x :\" \".join(x))\n",
    "PopularMdf['description']= PopularMdf['description'].apply(lambda x:x.lower())\n",
    "PopularMdf['description'] = PopularMdf['description'].str.strip('[]').str.replace(' ',' ').str.replace(\"'\",' ').str.replace('\"',' ')"
   ]
  },
  {
   "cell_type": "code",
   "execution_count": 371,
   "id": "434d5ff2",
   "metadata": {},
   "outputs": [
    {
     "data": {
      "text/plain": [
       "'drama adventure sciencefiction based on novel mars nasa isolation botanist stranded spaceship space engineering survival astronaut science deep space explorer duringcreditsstinger battle for survival during a manned mission to mars, astronaut mark watney is presumed dead after a fierce storm and left behind by his crew. but watney has survived and finds himself stranded and alone on the hostile planet. with only meager supplies, he must draw upon his ingenuity, wit and spirit to subsist and find a way to signal to earth that he is alive. bring him home ridleyscott mattdamon jessicachastain kristenwiig markwatney melissalewis anniemontrose the martian'"
      ]
     },
     "execution_count": 371,
     "metadata": {},
     "output_type": "execute_result"
    }
   ],
   "source": [
    "PopularMdf['description'][270]"
   ]
  },
  {
   "cell_type": "code",
   "execution_count": 372,
   "id": "38f49712",
   "metadata": {},
   "outputs": [],
   "source": [
    "PopularMdf['description'] = PopularMdf['description'].str.strip('[]').str.replace(' ',' ').str.replace(\"'\",' ').str.replace('\"',' ')"
   ]
  },
  {
   "cell_type": "code",
   "execution_count": 373,
   "id": "23e94028",
   "metadata": {},
   "outputs": [
    {
     "data": {
      "text/plain": [
       "'action adventure thriller spy secret agent sociopath killer art gallery british secret service istanbul turkey imax uzi booby trap impersonating a police officer macao when bond s latest assignment goes gravely wrong and agents around the world are exposed, mi6 is attacked forcing m to relocate the agency. these events cause her authority and position to be challenged by gareth mallory, the new chairman of the intelligence and security committee. with mi6 now compromised from both inside and out, m is left with one ally she can trust: bond. 007 takes to the shadows - aided only by field agent, eve - following a trail to the mysterious silva, whose lethal and hidden motives have yet to reveal themselves. think on your sins. sammendes danielcraig judidench javierbardem jamesbond m silva skyfall'"
      ]
     },
     "execution_count": 373,
     "metadata": {},
     "output_type": "execute_result"
    }
   ],
   "source": [
    "PopularMdf['description'][29]"
   ]
  },
  {
   "cell_type": "code",
   "execution_count": 59,
   "id": "7d596b59",
   "metadata": {},
   "outputs": [
    {
     "data": {
      "text/plain": [
       "0     True\n",
       "1    False\n",
       "2    False\n",
       "3    False\n",
       "4      NaN\n",
       "dtype: object"
      ]
     },
     "execution_count": 59,
     "metadata": {},
     "output_type": "execute_result"
    }
   ],
   "source": [
    "n = 'Mouse'\n",
    "s1 = pd.Series(['Mouse', 'dog', 'house and parrot', '23', np.NaN])\n",
    "s1.str.contains(r\"\\b{}\\b\".format(n))\n",
    "# p = PopularMdf[PopularMdf['description'].str.contains(r\"\\bstr(n)\\b\")]"
   ]
  },
  {
   "cell_type": "code",
   "execution_count": 436,
   "id": "8a828ebe",
   "metadata": {
    "scrolled": true
   },
   "outputs": [
    {
     "name": "stdout",
     "output_type": "stream",
     "text": [
      "[('Quantum of Solace', 107.928811, 1), ('Spectre', 107.376788, 1), ('Skyfall', 93.004993, 1), ('Casino Royale', 88.935165, 1), ('GoldenEye', 59.824565, 1), ('Die Another Day', 54.159392, 1), ('Dr. No', 48.901542, 1), ('Goldfinger', 47.812466, 1), ('Tomorrow Never Dies', 42.887121, 1), ('From Russia with Love', 41.298723, 1), ('The World Is Not Enough', 39.604363, 1), ('Diamonds Are Forever', 34.634181, 1), ('Thunderball', 31.036, 1), ('Live and Let Die', 30.465138, 1), ('The Man with the Golden Gun', 30.214716, 1), ('Moonraker', 29.887404, 1), ('You Only Live Twice', 28.675891, 1), ('Licence to Kill', 28.22119, 1), ('A View to a Kill', 27.230493, 1), ('The Spy Who Loved Me', 27.17347, 1), ('For Your Eyes Only', 26.090746, 1), ('Octopussy', 25.633663, 1), (\"On Her Majesty's Secret Service\", 25.289665, 1), ('Never Say Never Again', 23.380757, 1), ('The Living Daylights', 23.331459, 1)]\n"
     ]
    }
   ],
   "source": [
    "c = []\n",
    "for i, j in p.iterrows():\n",
    "    if j['description'].count('jamesbond') > 0:\n",
    "        c.append((j['title'],j['popularity'],j['description'].count('jamesbond')))\n",
    "    else:\n",
    "        continue\n",
    "print(sorted(c,reverse=True, key = lambda x : x[2]))"
   ]
  },
  {
   "cell_type": "code",
   "execution_count": 322,
   "id": "10018a12",
   "metadata": {},
   "outputs": [
    {
     "data": {
      "text/plain": [
       "'adventure fantasy family witch magic broom school of witchcraft wizardry apparition teenage crush werewolf as harry begins his sixth year at hogwarts, he discovers an old book marked as  property of the half-blood prince , and begins to learn more about lord voldemort s dark past. dark secrets revealed davidyates danielradcliffe rupertgrint emmawatson harrypotter ronweasley hermionegranger harry potter and the half-blood prince'"
      ]
     },
     "execution_count": 322,
     "metadata": {},
     "output_type": "execute_result"
    }
   ],
   "source": [
    "PopularMdf.iloc[95].description"
   ]
  },
  {
   "cell_type": "code",
   "execution_count": null,
   "id": "212ae717",
   "metadata": {},
   "outputs": [],
   "source": []
  },
  {
   "cell_type": "code",
   "execution_count": null,
   "id": "44623d6c",
   "metadata": {},
   "outputs": [],
   "source": []
  },
  {
   "cell_type": "code",
   "execution_count": null,
   "id": "fdbe1aec",
   "metadata": {},
   "outputs": [],
   "source": []
  },
  {
   "cell_type": "code",
   "execution_count": null,
   "id": "68159b4d",
   "metadata": {},
   "outputs": [],
   "source": []
  },
  {
   "cell_type": "code",
   "execution_count": null,
   "id": "2c1a1d85",
   "metadata": {},
   "outputs": [],
   "source": []
  },
  {
   "cell_type": "code",
   "execution_count": null,
   "id": "eee72fb7",
   "metadata": {},
   "outputs": [],
   "source": []
  },
  {
   "cell_type": "code",
   "execution_count": null,
   "id": "a5dbcab7",
   "metadata": {},
   "outputs": [],
   "source": []
  },
  {
   "cell_type": "code",
   "execution_count": null,
   "id": "fef96eaa",
   "metadata": {},
   "outputs": [],
   "source": []
  },
  {
   "cell_type": "code",
   "execution_count": null,
   "id": "f4f38638",
   "metadata": {},
   "outputs": [],
   "source": []
  },
  {
   "cell_type": "code",
   "execution_count": null,
   "id": "13df4cf5",
   "metadata": {},
   "outputs": [],
   "source": []
  },
  {
   "cell_type": "code",
   "execution_count": null,
   "id": "3d55a237",
   "metadata": {},
   "outputs": [],
   "source": []
  },
  {
   "cell_type": "code",
   "execution_count": null,
   "id": "3601fb93",
   "metadata": {},
   "outputs": [],
   "source": []
  },
  {
   "cell_type": "code",
   "execution_count": null,
   "id": "6e4af7b1",
   "metadata": {},
   "outputs": [],
   "source": []
  },
  {
   "cell_type": "code",
   "execution_count": null,
   "id": "b4639a4d",
   "metadata": {},
   "outputs": [],
   "source": []
  },
  {
   "cell_type": "code",
   "execution_count": null,
   "id": "79fb7c84",
   "metadata": {},
   "outputs": [],
   "source": []
  },
  {
   "cell_type": "code",
   "execution_count": null,
   "id": "91efc4db",
   "metadata": {},
   "outputs": [],
   "source": []
  },
  {
   "cell_type": "code",
   "execution_count": null,
   "id": "1c58f20b",
   "metadata": {},
   "outputs": [],
   "source": []
  },
  {
   "cell_type": "code",
   "execution_count": null,
   "id": "181021c7",
   "metadata": {},
   "outputs": [],
   "source": []
  },
  {
   "cell_type": "code",
   "execution_count": null,
   "id": "8520db39",
   "metadata": {},
   "outputs": [],
   "source": []
  },
  {
   "cell_type": "code",
   "execution_count": null,
   "id": "9521d97a",
   "metadata": {},
   "outputs": [],
   "source": []
  },
  {
   "cell_type": "code",
   "execution_count": null,
   "id": "a69fa5ce",
   "metadata": {},
   "outputs": [],
   "source": []
  },
  {
   "cell_type": "code",
   "execution_count": null,
   "id": "56eff555",
   "metadata": {},
   "outputs": [],
   "source": []
  },
  {
   "cell_type": "code",
   "execution_count": 153,
   "id": "5119b39a",
   "metadata": {},
   "outputs": [
    {
     "data": {
      "text/plain": [
       "0.004576272915725767"
      ]
     },
     "execution_count": 153,
     "metadata": {},
     "output_type": "execute_result"
    }
   ],
   "source": [
    "np.median(similarity1)"
   ]
  },
  {
   "cell_type": "code",
   "execution_count": null,
   "id": "d6e94a06",
   "metadata": {},
   "outputs": [],
   "source": []
  },
  {
   "cell_type": "code",
   "execution_count": 152,
   "id": "12ddc3c9",
   "metadata": {},
   "outputs": [],
   "source": [
    "# average(cosine_similarities)+alpha*standard_deviation(cosine_similarities)"
   ]
  },
  {
   "cell_type": "code",
   "execution_count": null,
   "id": "ce2bd597",
   "metadata": {},
   "outputs": [],
   "source": [
    "t = np.average(similarity1)+alpha*standard_deviation(cosine_similarities)"
   ]
  },
  {
   "cell_type": "code",
   "execution_count": 188,
   "id": "5a1d9c3c",
   "metadata": {},
   "outputs": [],
   "source": [
    "a = 8\n",
    "# Avatar\n",
    "aSim = new_df.iloc[3341].similarity_col\n",
    "\n",
    "T = np.average(aSim) + a * np.std(aSim)"
   ]
  },
  {
   "cell_type": "code",
   "execution_count": 171,
   "id": "5ba3eb07",
   "metadata": {},
   "outputs": [
    {
     "data": {
      "text/plain": [
       "0.1553887512883075"
      ]
     },
     "execution_count": 171,
     "metadata": {},
     "output_type": "execute_result"
    }
   ],
   "source": [
    "T"
   ]
  },
  {
   "cell_type": "code",
   "execution_count": 199,
   "id": "e76b96bf",
   "metadata": {},
   "outputs": [],
   "source": [
    "aSim = new_df.iloc[17].similarity_col"
   ]
  },
  {
   "cell_type": "code",
   "execution_count": 200,
   "id": "29a77ef9",
   "metadata": {},
   "outputs": [
    {
     "data": {
      "text/plain": [
       "3.313075545325979"
      ]
     },
     "execution_count": 200,
     "metadata": {},
     "output_type": "execute_result"
    }
   ],
   "source": [
    "(0.078 -np.average(aSim))/np.std(aSim)"
   ]
  },
  {
   "cell_type": "code",
   "execution_count": 175,
   "id": "108e0d7e",
   "metadata": {},
   "outputs": [],
   "source": [
    "# 3.15\n",
    "#3.17\n",
    "# 3.57\n",
    "# 3.44\n",
    "# 3.78\n",
    "# 3.89\n",
    "# 3.31"
   ]
  },
  {
   "cell_type": "code",
   "execution_count": null,
   "id": "135f3677",
   "metadata": {},
   "outputs": [],
   "source": []
  }
 ],
 "metadata": {
  "kernelspec": {
   "display_name": "Python 3 (ipykernel)",
   "language": "python",
   "name": "python3"
  },
  "language_info": {
   "codemirror_mode": {
    "name": "ipython",
    "version": 3
   },
   "file_extension": ".py",
   "mimetype": "text/x-python",
   "name": "python",
   "nbconvert_exporter": "python",
   "pygments_lexer": "ipython3",
   "version": "3.9.13"
  }
 },
 "nbformat": 4,
 "nbformat_minor": 5
}
